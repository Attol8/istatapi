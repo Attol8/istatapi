{
 "cells": [
  {
   "cell_type": "code",
   "execution_count": null,
   "metadata": {},
   "outputs": [
    {
     "name": "stdout",
     "output_type": "stream",
     "text": [
      "Cells will be exported to istatapi.retrieval,\n",
      "unless a different module is specified after an export flag: `%nbdev_export special.module`\n"
     ]
    }
   ],
   "source": [
    "from nbdev import *\n",
    "%nbdev_default_export retrieval"
   ]
  },
  {
   "cell_type": "code",
   "execution_count": null,
   "metadata": {},
   "outputs": [
    {
     "name": "stdout",
     "output_type": "stream",
     "text": [
      "The autoreload extension is already loaded. To reload it, use:\n",
      "  %reload_ext autoreload\n"
     ]
    }
   ],
   "source": [
    "%nbdev_hide\n",
    "%load_ext autoreload\n",
    "%autoreload 2"
   ]
  },
  {
   "cell_type": "code",
   "execution_count": null,
   "metadata": {},
   "outputs": [],
   "source": [
    "%nbdev_export\n",
    "from istatapi.discovery import DataSet\n",
    "import pandas as pd"
   ]
  },
  {
   "cell_type": "markdown",
   "metadata": {},
   "source": [
    "# Retrieval\n",
    "\n",
    "> Functions used to retrieve data from ISTAT datasets."
   ]
  },
  {
   "cell_type": "code",
   "execution_count": null,
   "metadata": {},
   "outputs": [],
   "source": [
    "RESOURCE = \"data\"\n",
    "FILTERS = {'FREQ' : 'A'  , 'CITTADINANZA' : '.TOTAL', 'DURATA_DISOCCUPAZ' : '.TOTAL', 'CLASSE_ETA': '.Y15-24+Y25-34+Y35-44+Y45-54+Y55-64', 'ITTER107' : '.IT', 'SESSO' : '.9', 'TIPO_DATO' : '.', 'TITOLO_STUDIO' : '.99'} \n",
    "\n",
    "def get_data(dataset: DataSet, **kwargs):\n",
    "    flowRef = dataset.identifiers['df_id']\n",
    "    \n",
    "    key = \"\"\n",
    "    for filter in filters:\n",
    "        key += filters[filter]\n",
    "        \n",
    "    url_parts = [dataset.entry_point, RESOURCE, flowRef, key]\n",
    "    url = \"/\".join(url_parts)\n",
    "    response = self.make_request(url, headers = {'Accept': 'text/csv'})\n",
    "    df = pd.read_csv(io.StringIO(response.text))\n",
    "    \n",
    "    return df"
   ]
  },
  {
   "cell_type": "code",
   "execution_count": null,
   "metadata": {},
   "outputs": [
    {
     "ename": "TypeError",
     "evalue": "__init__() got an unexpected keyword argument 'dataflow_identifier'",
     "output_type": "error",
     "traceback": [
      "\u001b[1;31m---------------------------------------------------------------------------\u001b[0m",
      "\u001b[1;31mTypeError\u001b[0m                                 Traceback (most recent call last)",
      "\u001b[1;32m<ipython-input-8-964905b3b12d>\u001b[0m in \u001b[0;36m<module>\u001b[1;34m\u001b[0m\n\u001b[1;32m----> 1\u001b[1;33m \u001b[0mdataset\u001b[0m \u001b[1;33m=\u001b[0m \u001b[0mDataSet\u001b[0m\u001b[1;33m(\u001b[0m\u001b[0mdataflow_identifier\u001b[0m \u001b[1;33m=\u001b[0m \u001b[1;34m\"151_914\"\u001b[0m\u001b[1;33m)\u001b[0m\u001b[1;33m\u001b[0m\u001b[1;33m\u001b[0m\u001b[0m\n\u001b[0m\u001b[0;32m      2\u001b[0m \u001b[0munempl_df\u001b[0m \u001b[1;33m=\u001b[0m \u001b[0mget_data\u001b[0m\u001b[1;33m(\u001b[0m\u001b[1;33m)\u001b[0m\u001b[1;33m\u001b[0m\u001b[1;33m\u001b[0m\u001b[0m\n",
      "\u001b[1;31mTypeError\u001b[0m: __init__() got an unexpected keyword argument 'dataflow_identifier'"
     ]
    }
   ],
   "source": [
    "dataset = DataSet(dataflow_identifier = \"151_914\")\n",
    "unempl_df = get_data()"
   ]
  },
  {
   "cell_type": "code",
   "execution_count": null,
   "metadata": {},
   "outputs": [],
   "source": []
  }
 ],
 "metadata": {
  "kernelspec": {
   "display_name": "Python 3",
   "language": "python",
   "name": "python3"
  }
 },
 "nbformat": 4,
 "nbformat_minor": 4
}
