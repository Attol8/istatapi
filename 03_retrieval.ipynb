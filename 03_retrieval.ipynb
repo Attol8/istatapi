{
 "cells": [
  {
   "cell_type": "code",
   "execution_count": null,
   "metadata": {},
   "outputs": [
    {
     "name": "stdout",
     "output_type": "stream",
     "text": [
      "Cells will be exported to istatapi.retrieval,\n",
      "unless a different module is specified after an export flag: `%nbdev_export special.module`\n"
     ]
    }
   ],
   "source": [
    "from nbdev import *\n",
    "\n",
    "%nbdev_default_export retrieval"
   ]
  },
  {
   "cell_type": "code",
   "execution_count": null,
   "metadata": {},
   "outputs": [],
   "source": [
    "%nbdev_hide\n",
    "%load_ext autoreload\n",
    "%autoreload 2"
   ]
  },
  {
   "cell_type": "code",
   "execution_count": null,
   "metadata": {},
   "outputs": [],
   "source": [
    "%nbdev_export\n",
    "from istatapi.discovery import DataSet\n",
    "from istatapi.base import ISTAT\n",
    "import pandas as pd\n",
    "import io"
   ]
  },
  {
   "cell_type": "markdown",
   "metadata": {},
   "source": [
    "# Retrieval\n",
    "\n",
    "> Functions used to retrieve data from ISTAT datasets."
   ]
  },
  {
   "cell_type": "code",
   "execution_count": null,
   "metadata": {},
   "outputs": [],
   "source": [
    "RESOURCE = \"data\"\n",
    "FILTERS = {\n",
    "    \"FREQ\": \"A\",\n",
    "    \"CITTADINANZA\": \".TOTAL\",\n",
    "    \"DURATA_DISOCCUPAZ\": \".TOTAL\",\n",
    "    \"CLASSE_ETA\": \".Y15-24+Y25-34+Y35-44+Y45-54+Y55-64\",\n",
    "    \"ITTER107\": \".IT\",\n",
    "    \"SESSO\": \".9\",\n",
    "    \"TIPO_DATO\": \".\",\n",
    "    \"TITOLO_STUDIO\": \".99\",\n",
    "}\n",
    "# TODO: accept json response as well (?)\n",
    "\n",
    "\n",
    "def get_data(dataset: DataSet, filters: dict, **kwargs):\n",
    "    # TODO: make filters easier\n",
    "    flowRef = dataset.identifiers[\"df_id\"]\n",
    "    key = make_url_key(filters)\n",
    "    print(key)\n",
    "    path_parts = [RESOURCE, flowRef, key]\n",
    "    path = \"/\".join(path_parts)\n",
    "    request = ISTAT()\n",
    "    response = request._request(path, headers={\"Accept\": \"text/csv\"})\n",
    "    df = pd.read_csv(io.StringIO(response.text))\n",
    "\n",
    "    return df\n",
    "\n",
    "\n",
    "def set_filters(dataset: DataSet, **kwargs):\n",
    "    filters = {}\n",
    "\n",
    "    # TODO: set values to 'TOTAL' where possible\n",
    "    # no filter equals all values (not recommended)\n",
    "    for dimension in dataset.dimensions:\n",
    "        filters[dimension] = \".\"\n",
    "        filters = set_default_values(dataset, filters)\n",
    "    # add kwargs in case passed\n",
    "    for arg, arg_value in kwargs.items():\n",
    "        filters[arg.upper()] = arg_value\n",
    "    print(filters)\n",
    "    return filters\n",
    "\n",
    "\n",
    "def make_url_key(filters: dict):\n",
    "    key = \"\"\n",
    "    for i, filter_tuple in enumerate(filters.items()):\n",
    "\n",
    "        filter = filter_tuple[0]\n",
    "        filter_value = filter_tuple[1]\n",
    "\n",
    "        # add a + and convert to str\n",
    "        if type(filter_value) == list:\n",
    "            filter_value = \"+\".join(filter_value)\n",
    "        # add a point\n",
    "        if i != 0:\n",
    "            if filter_value != \".\":\n",
    "                filter_value = (\n",
    "                    \".\" + filter_value\n",
    "                )  # in this case all filters are selected\n",
    "                print(filter_value)\n",
    "\n",
    "        key += filter_value\n",
    "\n",
    "    return key\n",
    "\n",
    "def set_default_values(dataset, filters)"
   ]
  },
  {
   "cell_type": "code",
   "execution_count": null,
   "metadata": {},
   "outputs": [
    {
     "name": "stdout",
     "output_type": "stream",
     "text": [
      "{'FREQ': 'A', 'CITTADINANZA': 'TOTAL', 'DURATA_DISOCCUPAZ': 'TOTAL', 'CLASSE_ETA': ['Y15-24', 'Y25-34', 'Y35-44', 'Y45-54', 'Y55-64'], 'ITTER107': 'IT', 'SESSO': '9', 'TIPO_DATO': '.', 'TITOLO_STUDIO': '99'}\n",
      ".TOTAL\n",
      ".TOTAL\n",
      ".Y15-24+Y25-34+Y35-44+Y45-54+Y55-64\n",
      ".IT\n",
      ".9\n",
      ".99\n",
      "A.TOTAL.TOTAL.Y15-24+Y25-34+Y35-44+Y45-54+Y55-64.IT.9..99\n"
     ]
    },
    {
     "data": {
      "text/plain": [
       "Index(['DATAFLOW', 'FREQ', 'CITTADINANZA', 'DURATA_DISOCCUPAZ', 'CLASSE_ETA',\n",
       "       'ITTER107', 'SESSO', 'TIPO_DATO', 'TITOLO_STUDIO', 'TIME_PERIOD',\n",
       "       'OBS_VALUE', 'BREAK', 'CONF_STATUS', 'OBS_PRE_BREAK', 'OBS_STATUS',\n",
       "       'BASE_PER', 'UNIT_MEAS', 'UNIT_MULT', 'METADATA_EN', 'METADATA_IT'],\n",
       "      dtype='object')"
      ]
     },
     "execution_count": null,
     "metadata": {},
     "output_type": "execute_result"
    }
   ],
   "source": [
    "freq = \"A\"\n",
    "cittadinanza = \"TOTAL\"\n",
    "durata_disoccupaz = \"TOTAL\"\n",
    "classe_eta = [\"Y15-24\", \"Y25-34\", \"Y35-44\", \"Y45-54\", \"Y55-64\"]\n",
    "itter107 = \"IT\"\n",
    "sesso = \"9\"\n",
    "titolo_studio = \"99\"\n",
    "\n",
    "dataset = DataSet(dataflow_identifier=\"151_914\")\n",
    "filters = set_filters(\n",
    "    dataset,\n",
    "    freq=freq,\n",
    "    cittadinanza=cittadinanza,\n",
    "    durata_disoccupaz=durata_disoccupaz,\n",
    "    classe_eta=classe_eta,\n",
    "    itter107=itter107,\n",
    "    sesso=sesso,\n",
    "    titolo_studio=titolo_studio,\n",
    ")\n",
    "unempl_df = get_data(dataset, filters=filters)\n",
    "unempl_df.columns"
   ]
  }
 ],
 "metadata": {
  "kernelspec": {
   "display_name": "Python 3",
   "language": "python",
   "name": "python3"
  }
 },
 "nbformat": 4,
 "nbformat_minor": 4
}
