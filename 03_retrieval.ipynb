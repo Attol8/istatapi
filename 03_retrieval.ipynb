{
 "cells": [
  {
   "cell_type": "code",
   "execution_count": null,
   "metadata": {},
   "outputs": [
    {
     "name": "stdout",
     "output_type": "stream",
     "text": [
      "Cells will be exported to istatapi.retrieval,\n",
      "unless a different module is specified after an export flag: `%nbdev_export special.module`\n"
     ]
    }
   ],
   "source": [
    "from nbdev import *\n",
    "\n",
    "%nbdev_default_export retrieval"
   ]
  },
  {
   "cell_type": "code",
   "execution_count": null,
   "metadata": {},
   "outputs": [
    {
     "name": "stdout",
     "output_type": "stream",
     "text": [
      "The autoreload extension is already loaded. To reload it, use:\n",
      "  %reload_ext autoreload\n"
     ]
    }
   ],
   "source": [
    "%nbdev_hide\n",
    "%load_ext autoreload\n",
    "%autoreload 2"
   ]
  },
  {
   "cell_type": "code",
   "execution_count": null,
   "metadata": {},
   "outputs": [
    {
     "name": "stderr",
     "output_type": "stream",
     "text": [
      "UsageError: Line magic function `%nbdev_export` not found.\n"
     ]
    }
   ],
   "source": [
    "%nbdev_export\n",
    "from istatapi.discovery import DataSet\n",
    "from istatapi.base import ISTAT\n",
    "import pandas as pd\n",
    "import io\n",
    "from fastcore.test import *"
   ]
  },
  {
   "cell_type": "markdown",
   "metadata": {},
   "source": [
    "# Retrieval\n",
    "\n",
    "> Functions used to retrieve data from ISTAT datasets."
   ]
  },
  {
   "cell_type": "code",
   "execution_count": null,
   "metadata": {},
   "outputs": [],
   "source": [
    "%nbdev_export\n",
    "RESOURCE = \"data\"\n",
    "# TODO: accept json response as well (?)\n",
    "\n",
    "\n",
    "def get_data(dataset: DataSet, **kwargs):\n",
    "    \"returns a dataframe of the filitered 'dataset'\"\n",
    "    flowRef = dataset.identifiers[\"df_id\"]\n",
    "    filters = dataset.filters\n",
    "    key = make_url_key(filters)\n",
    "    path_parts = [RESOURCE, flowRef, key]\n",
    "    path = \"/\".join(path_parts)\n",
    "    request = ISTAT()\n",
    "    response = request._request(path, headers={\"Accept\": \"text/csv\"})\n",
    "    df = pd.read_csv(io.StringIO(response.text))\n",
    "\n",
    "    if \"TIME_PERIOD\" in df.columns:\n",
    "        df[\"TIME_PERIOD\"] = pd.to_datetime(\n",
    "            df[\"TIME_PERIOD\"], infer_datetime_format=True\n",
    "        )\n",
    "        df = df.sort_values(by=[\"TIME_PERIOD\"])\n",
    "\n",
    "    return df\n",
    "\n",
    "\n",
    "def make_url_key(filters: dict):\n",
    "    key = \"\"\n",
    "\n",
    "    for i, filter_tuple in enumerate(filters.items()):\n",
    "\n",
    "        filter = filter_tuple[0]\n",
    "        filter_value = filter_tuple[1]\n",
    "\n",
    "        # add a + and convert to str\n",
    "        if type(filter_value) == list:\n",
    "            filter_value = \"+\".join(filter_value)\n",
    "\n",
    "        if i != 0:\n",
    "            if list(filters.values())[i - 1] != \".\":\n",
    "                filter_value = \".\" + filter_value\n",
    "\n",
    "        key += filter_value\n",
    "\n",
    "    return key"
   ]
  },
  {
   "cell_type": "code",
   "execution_count": null,
   "metadata": {},
   "outputs": [
    {
     "data": {
      "text/markdown": [
       "<h4 id=\"get_data\" class=\"doc_header\"><code>get_data</code><a href=\"__main__.py#L6\" class=\"source_link\" style=\"float:right\">[source]</a></h4>\n",
       "\n",
       "> <code>get_data</code>(**`dataset`**:[`DataSet`](/istatapi/discovery#DataSet), **\\*\\*`kwargs`**)\n",
       "\n",
       "returns a dataframe of the filitered 'dataset'"
      ],
      "text/plain": [
       "<IPython.core.display.Markdown object>"
      ]
     },
     "metadata": {},
     "output_type": "display_data"
    }
   ],
   "source": [
    "show_doc(get_data)"
   ]
  },
  {
   "cell_type": "code",
   "execution_count": null,
   "metadata": {},
   "outputs": [
    {
     "name": "stdout",
     "output_type": "stream",
     "text": [
      "{'FREQ': 'M', 'MERCE_ATECO_2007': '.', 'PAESE_PARTNER': 'WORLD', 'ITTER107': '.', 'TIPO_DATO': ['ISAV', 'ESAV']}\n"
     ]
    }
   ],
   "source": [
    "#initiate the dataset\n",
    "dataset = DataSet(dataflow_identifier=\"139_176\")\n",
    "\n",
    "#define some filters\n",
    "freq = \"M\"\n",
    "tipo_dato=[\"ISAV\", \"ESAV\"]\n",
    "paese_partner=\"WORLD\"\n",
    "\n",
    "#set filters\n",
    "dataset.set_filters(freq=freq, tipo_dato=tipo_dato, paese_partner=paese_partner)\n",
    "#return dataset\n",
    "unempl_df = get_data(dataset)\n",
    "unempl_df.head()\n",
    "test_eq(unempl_df['FREQ'].unique(), ['M'])\n",
    "test_eq(unempl_df['TIPO_DATO'].unique().sort(), [\"ISAV\", \"ESAV\"].sort())"
   ]
  },
  {
   "cell_type": "code",
   "execution_count": null,
   "metadata": {},
   "outputs": [
    {
     "name": "stdout",
     "output_type": "stream",
     "text": [
      "Converted 00_base.ipynb.\n",
      "Converted 01_discovery.ipynb.\n",
      "Converted 02_utils.ipynb.\n",
      "Converted 03_retrieval.ipynb.\n",
      "Converted index.ipynb.\n"
     ]
    }
   ],
   "source": [
    "%nbdev_hide\n",
    "export.notebook2script()"
   ]
  },
  {
   "cell_type": "code",
   "execution_count": null,
   "metadata": {},
   "outputs": [],
   "source": []
  }
 ],
 "metadata": {
  "kernelspec": {
   "display_name": "Python 3",
   "language": "python",
   "name": "python3"
  }
 },
 "nbformat": 4,
 "nbformat_minor": 4
}
