{
 "cells": [
  {
   "cell_type": "code",
   "execution_count": null,
   "metadata": {},
   "outputs": [],
   "source": [
    "# default_exp base"
   ]
  },
  {
   "cell_type": "markdown",
   "metadata": {},
   "source": [
    "# module name here\n",
    "> API Details"
   ]
  },
  {
   "cell_type": "code",
   "execution_count": null,
   "metadata": {},
   "outputs": [],
   "source": [
    "#export\n",
    "class ISTAT:\n",
    "    \n",
    "    def __init__(self):\n",
    "        self.base_url = \"http://sdmx.istat.it/SDMXWS/rest\"\n",
    "        self.agencyID = \"IT1\"\n",
    "     \n",
    "    def _request(self, path, **kwargs):\n",
    "        \n",
    "        url = \"/\".join([self.base_url, path])\n",
    "        \n",
    "        if 'headers' in kwargs.keys():\n",
    "            response = requests.get(url, headers = kwargs['headers'])\n",
    "        else:\n",
    "            response = requests.get(url)\n",
    "        \n",
    "        return response"
   ]
  },
  {
   "cell_type": "code",
   "execution_count": null,
   "metadata": {},
   "outputs": [],
   "source": [
    "#hide\n",
    "from nbdev.showdoc import *"
   ]
  },
  {
   "cell_type": "code",
   "execution_count": null,
   "metadata": {},
   "outputs": [],
   "source": []
  }
 ],
 "metadata": {
  "kernelspec": {
   "display_name": "Python 3",
   "language": "python",
   "name": "python3"
  }
 },
 "nbformat": 4,
 "nbformat_minor": 4
}
