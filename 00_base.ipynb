{
 "cells": [
  {
   "cell_type": "code",
   "execution_count": null,
   "metadata": {},
   "outputs": [],
   "source": [
    "from nbdev import *\n",
    "# default_exp base"
   ]
  },
  {
   "cell_type": "markdown",
   "metadata": {},
   "source": [
    "# Base\n",
    "\n",
    "> Base Class for making requests to ISTAT API"
   ]
  },
  {
   "cell_type": "code",
   "execution_count": null,
   "metadata": {},
   "outputs": [],
   "source": [
    "#export\n",
    "import requests"
   ]
  },
  {
   "cell_type": "code",
   "execution_count": null,
   "metadata": {},
   "outputs": [],
   "source": [
    "#export\n",
    "class ISTAT:\n",
    "    \n",
    "    def __init__(self):\n",
    "        self.base_url = \"http://sdmx.istat.it/SDMXWS/rest\"\n",
    "        self.agencyID = \"IT1\"\n",
    "     \n",
    "    def _request(self, path, **kwargs):\n",
    "        \n",
    "        url = \"/\".join([self.base_url, path])\n",
    "        \n",
    "        if 'headers' in kwargs.keys():\n",
    "            response = requests.get(url, headers = kwargs['headers'])\n",
    "        else:\n",
    "            response = requests.get(url)\n",
    "        \n",
    "        return response"
   ]
  },
  {
   "cell_type": "markdown",
   "metadata": {},
   "source": [
    "By passing the correct ```path``` to the we can make requests to ISTAT API"
   ]
  },
  {
   "cell_type": "code",
   "execution_count": null,
   "metadata": {},
   "outputs": [
    {
     "data": {
      "text/plain": [
       "<Response [200]>"
      ]
     },
     "execution_count": null,
     "metadata": {},
     "output_type": "execute_result"
    }
   ],
   "source": [
    "istat = ISTAT()\n",
    "path = 'dataflow/IT1'\n",
    "response = istat._request(path = path)\n",
    "response"
   ]
  },
  {
   "cell_type": "code",
   "execution_count": null,
   "metadata": {},
   "outputs": [],
   "source": []
  }
 ],
 "metadata": {
  "kernelspec": {
   "display_name": "Python 3",
   "language": "python",
   "name": "python3"
  }
 },
 "nbformat": 4,
 "nbformat_minor": 4
}
