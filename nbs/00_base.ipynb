{
 "cells": [
  {
   "cell_type": "code",
   "execution_count": null,
   "metadata": {},
   "outputs": [],
   "source": [
    "#| default_exp base"
   ]
  },
  {
   "cell_type": "markdown",
   "metadata": {},
   "source": [
    "`<<<<<<< HEAD`"
   ]
  },
  {
   "cell_type": "markdown",
   "metadata": {},
   "source": [
    "`=======`"
   ]
  },
  {
   "cell_type": "code",
   "execution_count": null,
   "metadata": {},
   "outputs": [],
   "source": [
    "from nbdev import *\n",
    "import requests"
   ]
  },
  {
   "cell_type": "markdown",
   "metadata": {},
   "source": [
    "`>>>>>>> c2fb413 (update fastai and fastcore)`"
   ]
  },
  {
   "cell_type": "markdown",
   "metadata": {},
   "source": [
    "import requests"
   ]
  },
  {
   "cell_type": "markdown",
   "metadata": {},
   "source": [
    "`<<<<<<< HEAD`"
   ]
  },
  {
   "cell_type": "code",
   "execution_count": null,
   "metadata": {},
   "outputs": [],
   "source": [
    "#| export\n",
    "import requests\n",
    "from nbdev.showdoc import *\n",
    "from importlib import reload"
   ]
  },
  {
   "cell_type": "markdown",
   "metadata": {},
   "source": [
    "`=======`"
   ]
  },
  {
   "cell_type": "code",
   "execution_count": null,
   "metadata": {},
   "outputs": [],
   "source": [
    "#| export\n",
    "class ISTAT:\n",
    "    \"\"\"Base class that provides useful functions to communicate with ISTAT API\"\"\"\n",
    "\n",
    "    def __init__(self):\n",
    "        self.base_url = \"http://sdmx.istat.it/SDMXWS/rest\"\n",
    "        self.agencyID = \"IT1\"\n",
    "\n",
    "    def _request(self, path, **kwargs):\n",
    "        \"\"\"Make a request to ISTAT API given a 'path'\"\"\"\n",
    "        url = \"/\".join([self.base_url, path])\n",
    "\n",
    "        if \"headers\" in kwargs.keys():\n",
    "            response = requests.get(url, headers=kwargs[\"headers\"])\n",
    "        else:\n",
    "            response = requests.get(url)\n",
    "\n",
    "        return response"
   ]
  },
  {
   "cell_type": "markdown",
   "metadata": {},
   "source": [
    "`>>>>>>> c2fb413 (update fastai and fastcore)`"
   ]
  },
  {
   "cell_type": "code",
   "execution_count": null,
   "metadata": {},
   "outputs": [],
   "source": [
    "#| export\n",
    "class ISTAT:\n",
    "    \"\"\"Base class that provides useful functions to communicate with ISTAT API\"\"\"\n",
    "\n",
    "    def __init__(self):\n",
    "        self.base_url = \"http://sdmx.istat.it/SDMXWS/rest\"\n",
    "        self.agencyID = \"IT1\"\n",
    "\n",
    "    def _request(self, path, **kwargs):\n",
    "        \"\"\"Make a request to ISTAT API given a 'path'\"\"\"\n",
    "        url = \"/\".join([self.base_url, path])\n",
    "\n",
    "        if \"headers\" in kwargs.keys():\n",
    "            response = requests.get(url, headers=kwargs[\"headers\"])\n",
    "        else:\n",
    "            response = requests.get(url)\n",
    "\n",
    "        return response"
   ]
  },
  {
   "cell_type": "code",
   "execution_count": null,
   "metadata": {},
   "outputs": [
    {
     "data": {
      "text/markdown": [
       "---\n",
       "\n",
       "### ISTAT._request\n",
       "\n",
       ">      ISTAT._request (path, **kwargs)\n",
       "\n",
       "Make a request to ISTAT API given a 'path'"
      ],
      "text/plain": [
       "---\n",
       "\n",
       "### ISTAT._request\n",
       "\n",
       ">      ISTAT._request (path, **kwargs)\n",
       "\n",
       "Make a request to ISTAT API given a 'path'"
      ]
     },
     "execution_count": null,
     "metadata": {},
     "output_type": "execute_result"
    }
   ],
   "source": [
    "show_doc(ISTAT._request)"
   ]
  },
  {
   "cell_type": "markdown",
   "metadata": {},
   "source": [
    "The 'ISTAT' class already implements the 'base_url', therefore 'path' only needs to include the other parameters of the request. Here is an example of a succesful request:"
   ]
  },
  {
   "cell_type": "code",
   "execution_count": null,
   "metadata": {},
   "outputs": [
    {
     "data": {
      "text/plain": [
       "<Response [200]>"
      ]
     },
     "execution_count": null,
     "metadata": {},
     "output_type": "execute_result"
    }
   ],
   "source": [
    "istat = ISTAT()\n",
    "path = \"dataflow/IT1\"\n",
    "test_response = istat._request(path=path)\n",
    "test_response"
   ]
  }
 ],
 "metadata": {
  "kernelspec": {
   "display_name": "Python 3.8.10 64-bit",
   "language": "python",
   "name": "python3"
  },
  "language_info": {
   "name": "python",
   "version": "3.8.10"
  },
  "vscode": {
   "interpreter": {
    "hash": "916dbcbb3f70747c44a77c7bcd40155683ae19c65e1c03b4aa3499c5328201f1"
   }
  }
 },
 "nbformat": 4,
 "nbformat_minor": 4
}
