{
 "cells": [
  {
   "cell_type": "code",
   "execution_count": null,
   "metadata": {},
   "outputs": [],
   "source": [
    "#| default_exp base"
   ]
  },
  {
   "cell_type": "code",
   "execution_count": null,
   "metadata": {},
   "outputs": [],
   "source": [
    "from nbdev import *"
   ]
  },
  {
   "cell_type": "markdown",
   "metadata": {},
   "source": [
    "# Base\n",
    "\n",
    "> Module for making requests to ISTAT API"
   ]
  },
  {
   "cell_type": "code",
   "execution_count": null,
   "metadata": {},
   "outputs": [],
   "source": [
    "#| export\n",
    "import requests"
   ]
  },
  {
   "cell_type": "code",
   "execution_count": null,
   "metadata": {},
   "outputs": [],
   "source": [
    "#| export\n",
    "class ISTAT:\n",
    "    \"\"\"Base class that provides useful functions to communicate with ISTAT API\"\"\"\n",
    "\n",
    "    def __init__(self):\n",
    "        self.base_url = \"http://sdmx.istat.it/SDMXWS/rest\"\n",
    "        self.agencyID = \"IT1\"\n",
    "\n",
    "    def _request(self, path, **kwargs):\n",
    "        \"\"\"Make a request to ISTAT API given a 'path'\"\"\"\n",
    "        url = \"/\".join([self.base_url, path])\n",
    "\n",
    "        if \"headers\" in kwargs.keys():\n",
    "            response = requests.get(url, headers=kwargs[\"headers\"])\n",
    "        else:\n",
    "            response = requests.get(url)\n",
    "\n",
    "        return response"
   ]
  },
  {
   "cell_type": "code",
   "execution_count": null,
   "metadata": {},
   "outputs": [
    {
     "data": {
      "text/markdown": [
       "<h4 id=\"ISTAT._request\" class=\"doc_header\"><code>ISTAT._request</code><a href=\"__main__.py#L9\" class=\"source_link\" style=\"float:right\">[source]</a></h4>\n",
       "\n",
       "> <code>ISTAT._request</code>(**`path`**, **\\*\\*`kwargs`**)\n",
       "\n",
       "Make a request to ISTAT API given a 'path'"
      ],
      "text/plain": [
       "<IPython.core.display.Markdown object>"
      ]
     },
     "metadata": {},
     "output_type": "display_data"
    }
   ],
   "source": [
    "show_doc(ISTAT._request)"
   ]
  },
  {
   "cell_type": "markdown",
   "metadata": {},
   "source": [
    "The 'ISTAT' class already implements the 'base_url', therefore 'path' only needs to include the other parameters of the request. Here is an example of a succesful request:"
   ]
  },
  {
   "cell_type": "code",
   "execution_count": null,
   "metadata": {},
   "outputs": [
    {
     "data": {
      "text/plain": [
       "<Response [200]>"
      ]
     },
     "execution_count": null,
     "metadata": {},
     "output_type": "execute_result"
    }
   ],
   "source": [
    "istat = ISTAT()\n",
    "path = \"dataflow/IT1\"\n",
    "test_response = istat._request(path=path)\n",
    "test_response"
   ]
  },
  {
   "cell_type": "code",
   "execution_count": null,
   "metadata": {},
   "outputs": [
    {
     "name": "stdout",
     "output_type": "stream",
     "text": [
      "Converted 00_base.ipynb.\n",
      "Converted 01_discovery.ipynb.\n",
      "Converted 02_utils.ipynb.\n",
      "Converted 03_retrieval.ipynb.\n",
      "Converted index.ipynb.\n"
     ]
    }
   ],
   "source": [
    "#| hide\n",
    "export.nbdev_export()"
   ]
  }
 ],
 "metadata": {
  "kernelspec": {
   "display_name": "Python 3",
   "language": "python",
   "name": "python3"
  }
 },
 "nbformat": 4,
 "nbformat_minor": 4
}
