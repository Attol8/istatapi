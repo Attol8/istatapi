{
 "cells": [
  {
   "cell_type": "code",
   "execution_count": null,
   "metadata": {},
   "outputs": [],
   "source": [
    "#| default_exp base"
   ]
  },
  {
   "cell_type": "code",
   "execution_count": null,
   "metadata": {},
   "outputs": [],
   "source": [
    "from nbdev import *"
   ]
  },
  {
   "cell_type": "markdown",
   "metadata": {},
   "source": [
    "# Base\n",
    "\n",
    "> Module for making requests to ISTAT API"
   ]
  },
  {
   "cell_type": "code",
   "execution_count": null,
   "metadata": {},
   "outputs": [],
   "source": [
    "#| export\n",
    "import requests"
   ]
  },
  {
   "cell_type": "code",
   "execution_count": null,
   "metadata": {},
   "outputs": [],
   "source": [
    "#| export\n",
    "class ISTAT:\n",
    "    \"\"\"Base class that provides useful functions to communicate with ISTAT API\"\"\"\n",
    "\n",
    "    def __init__(self):\n",
    "        self.base_url = \"http://sdmx.istat.it/SDMXWS/rest\"\n",
    "        self.agencyID = \"IT1\"\n",
    "\n",
    "    def _request(self, path, **kwargs):\n",
    "        \"\"\"Make a request to ISTAT API given a 'path'\"\"\"\n",
    "        url = \"/\".join([self.base_url, path])\n",
    "\n",
    "        if \"headers\" in kwargs.keys():\n",
    "            response = requests.get(url, headers=kwargs[\"headers\"])\n",
    "        else:\n",
    "            response = requests.get(url)\n",
    "\n",
    "        return response"
   ]
  },
  {
   "cell_type": "code",
   "execution_count": null,
   "metadata": {},
   "outputs": [
    {
     "data": {
      "text/markdown": [
       "---\n",
       "\n",
       "### ISTAT._request\n",
       "\n",
       ">      ISTAT._request (path, **kwargs)\n",
       "\n",
       "Make a request to ISTAT API given a 'path'"
      ],
      "text/plain": [
       "---\n",
       "\n",
       "### ISTAT._request\n",
       "\n",
       ">      ISTAT._request (path, **kwargs)\n",
       "\n",
       "Make a request to ISTAT API given a 'path'"
      ]
     },
     "execution_count": null,
     "metadata": {},
     "output_type": "execute_result"
    }
   ],
   "source": [
    "show_doc(ISTAT._request)"
   ]
  },
  {
   "cell_type": "markdown",
   "metadata": {},
   "source": [
    "The 'ISTAT' class already implements the 'base_url', therefore 'path' only needs to include the other parameters of the request. Here is an example of a succesful request:"
   ]
  },
  {
   "cell_type": "code",
   "execution_count": null,
   "metadata": {},
   "outputs": [
    {
     "data": {
      "text/plain": [
       "<Response [200]>"
      ]
     },
     "execution_count": null,
     "metadata": {},
     "output_type": "execute_result"
    }
   ],
   "source": [
    "istat = ISTAT()\n",
    "path = \"dataflow/IT1\"\n",
    "test_response = istat._request(path=path)\n",
    "test_response"
   ]
  }
 ],
 "metadata": {
  "kernelspec": {
   "display_name": "Python 3 (ipykernel)",
   "language": "python",
   "name": "python3"
  }
 },
 "nbformat": 4,
 "nbformat_minor": 4
}
