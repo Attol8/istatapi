{
 "cells": [
  {
   "cell_type": "code",
   "execution_count": null,
   "metadata": {},
   "outputs": [],
   "source": [
    "#| default_exp retrieval"
   ]
  },
  {
   "cell_type": "code",
   "execution_count": null,
   "metadata": {},
   "outputs": [],
   "source": [
    "#| export\n",
    "from istatapi.discovery import DataSet\n",
    "from istatapi.base import ISTAT\n",
    "import pandas as pd\n",
    "import io\n",
    "from fastcore.test import *\n",
    "from nbdev import *"
   ]
  },
  {
   "cell_type": "code",
   "execution_count": null,
   "metadata": {},
   "outputs": [],
   "source": [
    "#| hide\n",
    "from nbdev.showdoc import *"
   ]
  },
  {
   "cell_type": "code",
   "execution_count": null,
   "metadata": {},
   "outputs": [],
   "source": [
    "#| export\n",
    "RESOURCE = \"data\"\n",
    "# TODO: accept json response as well (?)\n",
    "\n",
    "\n",
    "def get_data(dataset: DataSet, **kwargs):\n",
    "    \"returns a dataframe of the filitered 'dataset'\"\n",
    "    flowRef = dataset.identifiers[\"df_id\"]\n",
    "    filters = dataset.filters\n",
    "    key = make_url_key(filters)\n",
    "    path_parts = [RESOURCE, flowRef, key]\n",
    "    path = \"/\".join(path_parts)\n",
    "    request = ISTAT()\n",
    "    response = request._request(path, headers={\"Accept\": \"text/csv\"})\n",
    "    df = pd.read_csv(io.StringIO(response.text))\n",
    "\n",
    "    if \"TIME_PERIOD\" in df.columns:\n",
    "        df[\"TIME_PERIOD\"] = pd.to_datetime(\n",
    "            df[\"TIME_PERIOD\"], infer_datetime_format=True\n",
    "        )\n",
    "        df = df.sort_values(by=[\"TIME_PERIOD\"])\n",
    "\n",
    "    return df\n",
    "\n",
    "\n",
    "def make_url_key(filters: dict):\n",
    "    key = \"\"\n",
    "\n",
    "    for i, filter_tuple in enumerate(filters.items()):\n",
    "\n",
    "        filter = filter_tuple[0]\n",
    "        filter_value = filter_tuple[1]\n",
    "\n",
    "        # add a + and convert to str\n",
    "        if type(filter_value) == list:\n",
    "            filter_value = \"+\".join(filter_value)\n",
    "\n",
    "        if i != 0:\n",
    "            if list(filters.values())[i - 1] != \".\":\n",
    "                filter_value = \".\" + filter_value\n",
    "\n",
    "        key += filter_value\n",
    "\n",
    "    return key"
   ]
  },
  {
   "cell_type": "code",
   "execution_count": null,
   "metadata": {},
   "outputs": [
    {
     "data": {
      "text/markdown": [
       "---\n",
       "\n",
       "### get_data\n",
       "\n",
       ">      get_data (dataset:istatapi.discovery.DataSet, **kwargs)\n",
       "\n",
       "returns a dataframe of the filitered 'dataset'"
      ],
      "text/plain": [
       "---\n",
       "\n",
       "### get_data\n",
       "\n",
       ">      get_data (dataset:istatapi.discovery.DataSet, **kwargs)\n",
       "\n",
       "returns a dataframe of the filitered 'dataset'"
      ]
     },
     "execution_count": null,
     "metadata": {},
     "output_type": "execute_result"
    }
   ],
   "source": [
    "show_doc(get_data)"
   ]
  },
  {
   "cell_type": "code",
   "execution_count": null,
   "metadata": {},
   "outputs": [],
   "source": [
    "#initiate the dataset\n",
    "dataset = DataSet(dataflow_identifier=\"139_176\")\n",
    "\n",
    "#define some filters\n",
    "freq = \"M\"\n",
    "tipo_dato=[\"ISAV\", \"ESAV\"]\n",
    "paese_partner=\"WORLD\"\n",
    "\n",
    "#set filters\n",
    "dataset.set_filters(freq=freq, tipo_dato=tipo_dato, paese_partner=paese_partner)\n",
    "#return dataset\n",
    "trade_df = get_data(dataset)\n",
    "trade_df.head()\n",
    "test_eq(trade_df['FREQ'].unique(), ['M'])\n",
    "test_eq(trade_df['TIPO_DATO'].unique().sort(), [\"ISAV\", \"ESAV\"].sort())\n",
    "test_eq(trade_df['PAESE_PARTNER'].unique().sort(), [\"WORLD\"].sort())"
   ]
  },
  {
   "cell_type": "code",
   "execution_count": null,
   "metadata": {},
   "outputs": [],
   "source": [
    "#| hide\n",
    "import nbdev; nbdev.nbdev_export()"
   ]
  }
 ],
 "metadata": {
  "kernelspec": {
   "display_name": "base",
   "language": "python",
   "name": "python3"
  }
 },
 "nbformat": 4,
 "nbformat_minor": 4
}
