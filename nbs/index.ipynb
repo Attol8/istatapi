{
 "cells": [
  {
   "cell_type": "code",
   "execution_count": null,
   "metadata": {},
   "outputs": [],
   "source": [
    "#hide\n",
    "from istatapi import *"
   ]
  },
  {
   "cell_type": "markdown",
   "metadata": {},
   "source": [
    "# ISTATAPI\n",
    "\n",
    "> Python API wrapper for ISTAT (The Italian National Institute of Statistics)"
   ]
  },
  {
   "cell_type": "markdown",
   "metadata": {},
   "source": [
    "`istatapi` is a Python interface to discover and retrieve data from ISTAT API (The Italian National Institute of Statistics). The library is designed to explore ISTAT metadata and to retreive data in different formats. `istatapi` is built on top of [ISTAT SDMX RESTful API](https://developers.italia.it/it/api/istat-sdmx-rest).\n",
    "\n",
    "Whether you are an existing organization, a curious individual or an academic researcher, `istatapi` aims to allow you to easily access ISTAT databases with just a few lines of code. The library implements functions to:\n",
    "\n",
    "* Explore all available ISTAT datasets (dataflows in SDMX terminology)\n",
    "* Search available datasets by keywords\n",
    "* Retrieve information on a specific dataset like: the ID of the dataflow, the names and available values of the dimensions of the dataset, available filters.\n",
    "* Get data of an available dataset in a pandas DataFrame, csv or json format."
   ]
  },
  {
   "cell_type": "markdown",
   "metadata": {},
   "source": [
    "## Install"
   ]
  },
  {
   "cell_type": "markdown",
   "metadata": {},
   "source": [
    "You can easily install the library by using the pip command:"
   ]
  },
  {
   "cell_type": "markdown",
   "metadata": {},
   "source": [
    "`pip install istatapi`"
   ]
  },
  {
   "cell_type": "markdown",
   "metadata": {},
   "source": [
    "## How to use"
   ]
  },
  {
   "cell_type": "markdown",
   "metadata": {},
   "source": []
  }
 ],
 "metadata": {
  "kernelspec": {
   "display_name": "Python 3",
   "language": "python",
   "name": "python3"
  }
 },
 "nbformat": 4,
 "nbformat_minor": 4
}
