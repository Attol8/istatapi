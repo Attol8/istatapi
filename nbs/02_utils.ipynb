{
 "cells": [
  {
   "cell_type": "code",
   "execution_count": null,
   "metadata": {},
   "outputs": [],
   "source": [
    "#| default_exp utils"
   ]
  },
  {
   "cell_type": "code",
   "execution_count": null,
   "metadata": {},
   "outputs": [],
   "source": [
    "from nbdev import *"
   ]
  },
  {
   "cell_type": "code",
   "execution_count": null,
   "metadata": {},
   "outputs": [],
   "source": [
    "#| export\n",
    "import xml.etree.ElementTree as ET\n",
    "from io import StringIO"
   ]
  },
  {
   "cell_type": "markdown",
   "metadata": {},
   "source": [
    "# Utils\n",
    "\n",
    "> Functions required by other modules to work"
   ]
  },
  {
   "cell_type": "code",
   "execution_count": null,
   "metadata": {},
   "outputs": [],
   "source": [
    "#| export\n",
    "def make_tree(response):\n",
    "    \"\"\"Make an `ElementTree` from the text of an XML `response`\"\"\"\n",
    "    tree = ET.iterparse(StringIO(response.text))\n",
    "    return tree\n",
    "\n",
    "def strip_ns(tree): \n",
    "    \"\"\"strip all the namespaces from `tree`\"\"\"\n",
    "    for _, el in tree:\n",
    "        _, _, el.tag = el.tag.rpartition('}') # strip ns#\n",
    "    return tree"
   ]
  },
  {
   "cell_type": "code",
   "execution_count": null,
   "metadata": {},
   "outputs": [
    {
     "name": "stdout",
     "output_type": "stream",
     "text": [
      "Converted 00_base.ipynb.\n",
      "Converted 01_discovery.ipynb.\n",
      "Converted 02_utils.ipynb.\n",
      "Converted 03_retrieval.ipynb.\n",
      "Converted index.ipynb.\n"
     ]
    }
   ],
   "source": [
    "#| hide\n",
    "export.nbdev_export()"
   ]
  }
 ],
 "metadata": {
  "kernelspec": {
   "display_name": "Python 3",
   "language": "python",
   "name": "python3"
  }
 },
 "nbformat": 4,
 "nbformat_minor": 4
}
