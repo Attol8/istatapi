{
 "cells": [
  {
   "cell_type": "markdown",
   "metadata": {},
   "source": [
    "# Indice del fatturato dei servizi\n",
    "\n",
    "Here we are trying to reproduce the graph under the section 'INDICE FATTURATO SERVIZI' at https://www.istat.it/it/congiuntura"
   ]
  },
  {
   "cell_type": "code",
   "execution_count": 1,
   "metadata": {},
   "outputs": [],
   "source": [
    "from nbdev import *\n",
    "from istatapi import *\n",
    "import matplotlib.pyplot as plt\n",
    "import pandas as pd"
   ]
  },
  {
   "cell_type": "code",
   "execution_count": 2,
   "metadata": {},
   "outputs": [
    {
     "name": "stderr",
     "output_type": "stream",
     "text": [
      "UsageError: Line magic function `%nbdev_hide` not found.\n"
     ]
    }
   ],
   "source": [
    "%nbdev_hide\n",
    "%reload_ext autoreload\n",
    "%autoreload 2"
   ]
  },
  {
   "cell_type": "markdown",
   "metadata": {},
   "source": [
    "The graph we are trying to reproduce is an index on turnover in the service sector. With `istatapi` we can search through all the available datasets by simply using the following function:"
   ]
  },
  {
   "cell_type": "code",
   "execution_count": 3,
   "metadata": {},
   "outputs": [
    {
     "data": {
      "text/html": [
       "<div>\n",
       "<style scoped>\n",
       "    .dataframe tbody tr th:only-of-type {\n",
       "        vertical-align: middle;\n",
       "    }\n",
       "\n",
       "    .dataframe tbody tr th {\n",
       "        vertical-align: top;\n",
       "    }\n",
       "\n",
       "    .dataframe thead th {\n",
       "        text-align: right;\n",
       "    }\n",
       "</style>\n",
       "<table border=\"1\" class=\"dataframe\">\n",
       "  <thead>\n",
       "    <tr style=\"text-align: right;\">\n",
       "      <th></th>\n",
       "      <th>df_id</th>\n",
       "      <th>version</th>\n",
       "      <th>df_description</th>\n",
       "      <th>df_structure_id</th>\n",
       "    </tr>\n",
       "  </thead>\n",
       "  <tbody>\n",
       "    <tr>\n",
       "      <th>17</th>\n",
       "      <td>114_191</td>\n",
       "      <td>1.2</td>\n",
       "      <td>Industrial new orders and turnover index</td>\n",
       "      <td>DCSC_ORDFATT</td>\n",
       "    </tr>\n",
       "    <tr>\n",
       "      <th>19</th>\n",
       "      <td>115_333</td>\n",
       "      <td>1.2</td>\n",
       "      <td>Industrial production index</td>\n",
       "      <td>DCSC_INDXPRODIND_1</td>\n",
       "    </tr>\n",
       "    <tr>\n",
       "      <th>20</th>\n",
       "      <td>115_362</td>\n",
       "      <td>1.2</td>\n",
       "      <td>Index of production in construction</td>\n",
       "      <td>DCSC_INDXPRODCOSTR_1</td>\n",
       "    </tr>\n",
       "    <tr>\n",
       "      <th>25</th>\n",
       "      <td>119_367</td>\n",
       "      <td>1.3</td>\n",
       "      <td>Indexes of turnover in other services</td>\n",
       "      <td>DCSC_FATTSERVIZ_1</td>\n",
       "    </tr>\n",
       "    <tr>\n",
       "      <th>26</th>\n",
       "      <td>120_337</td>\n",
       "      <td>1.3</td>\n",
       "      <td>Index of retail trade sales</td>\n",
       "      <td>DCSC_COMMDET_1</td>\n",
       "    </tr>\n",
       "    <tr>\n",
       "      <th>49</th>\n",
       "      <td>143_222</td>\n",
       "      <td>1.0</td>\n",
       "      <td>Import price index - monthly data</td>\n",
       "      <td>DCSC_PREIMPIND</td>\n",
       "    </tr>\n",
       "  </tbody>\n",
       "</table>\n",
       "</div>"
      ],
      "text/plain": [
       "      df_id version                            df_description  \\\n",
       "17  114_191     1.2  Industrial new orders and turnover index   \n",
       "19  115_333     1.2               Industrial production index   \n",
       "20  115_362     1.2       Index of production in construction   \n",
       "25  119_367     1.3     Indexes of turnover in other services   \n",
       "26  120_337     1.3               Index of retail trade sales   \n",
       "49  143_222     1.0         Import price index - monthly data   \n",
       "\n",
       "         df_structure_id  \n",
       "17          DCSC_ORDFATT  \n",
       "19    DCSC_INDXPRODIND_1  \n",
       "20  DCSC_INDXPRODCOSTR_1  \n",
       "25     DCSC_FATTSERVIZ_1  \n",
       "26        DCSC_COMMDET_1  \n",
       "49        DCSC_PREIMPIND  "
      ]
     },
     "execution_count": 3,
     "metadata": {},
     "output_type": "execute_result"
    }
   ],
   "source": [
    "search_dataset(\"index\")"
   ]
  },
  {
   "cell_type": "markdown",
   "metadata": {},
   "source": [
    "To retrieve data from a specific dataset, we first need to create an instance of the DataSet class. We can use `df_id`, `df_description` or `df_structure_id` from the above DataFrame. This may take a few seconds to load."
   ]
  },
  {
   "cell_type": "code",
   "execution_count": 4,
   "metadata": {},
   "outputs": [],
   "source": [
    "# initialize the dataset and get its dimensions\n",
    "ds = DataSet(dataflow_identifier=\"119_367\")"
   ]
  },
  {
   "cell_type": "markdown",
   "metadata": {},
   "source": [
    "We now want to see what variables are included in the dataset that we are analysing. With `istatapi` we can easily print its variables (\"dimensions\" in ISTAT terminology) and their description."
   ]
  },
  {
   "cell_type": "code",
   "execution_count": 5,
   "metadata": {},
   "outputs": [
    {
     "data": {
      "text/html": [
       "<div>\n",
       "<style scoped>\n",
       "    .dataframe tbody tr th:only-of-type {\n",
       "        vertical-align: middle;\n",
       "    }\n",
       "\n",
       "    .dataframe tbody tr th {\n",
       "        vertical-align: top;\n",
       "    }\n",
       "\n",
       "    .dataframe thead th {\n",
       "        text-align: right;\n",
       "    }\n",
       "</style>\n",
       "<table border=\"1\" class=\"dataframe\">\n",
       "  <thead>\n",
       "    <tr style=\"text-align: right;\">\n",
       "      <th></th>\n",
       "      <th>dimension</th>\n",
       "      <th>dimension_ID</th>\n",
       "      <th>description</th>\n",
       "    </tr>\n",
       "  </thead>\n",
       "  <tbody>\n",
       "    <tr>\n",
       "      <th>0</th>\n",
       "      <td>FREQ</td>\n",
       "      <td>CL_FREQ</td>\n",
       "      <td>Frequency</td>\n",
       "    </tr>\n",
       "    <tr>\n",
       "      <th>1</th>\n",
       "      <td>ATECO_2007</td>\n",
       "      <td>CL_ATECO_2007</td>\n",
       "      <td>Nace 2007</td>\n",
       "    </tr>\n",
       "    <tr>\n",
       "      <th>2</th>\n",
       "      <td>ADJUSTMENT</td>\n",
       "      <td>CL_CORREZ</td>\n",
       "      <td>Adjustment</td>\n",
       "    </tr>\n",
       "    <tr>\n",
       "      <th>3</th>\n",
       "      <td>ITTER107</td>\n",
       "      <td>CL_ITTER107</td>\n",
       "      <td>Territory</td>\n",
       "    </tr>\n",
       "    <tr>\n",
       "      <th>4</th>\n",
       "      <td>TIPO_DATO</td>\n",
       "      <td>CL_TIPO_DATO7</td>\n",
       "      <td>Data type 7</td>\n",
       "    </tr>\n",
       "  </tbody>\n",
       "</table>\n",
       "</div>"
      ],
      "text/plain": [
       "    dimension   dimension_ID  description\n",
       "0        FREQ        CL_FREQ    Frequency\n",
       "1  ATECO_2007  CL_ATECO_2007    Nace 2007\n",
       "2  ADJUSTMENT      CL_CORREZ   Adjustment\n",
       "3    ITTER107    CL_ITTER107    Territory\n",
       "4   TIPO_DATO  CL_TIPO_DATO7  Data type 7"
      ]
     },
     "execution_count": 5,
     "metadata": {},
     "output_type": "execute_result"
    }
   ],
   "source": [
    "ds.dimensions_info()"
   ]
  },
  {
   "cell_type": "markdown",
   "metadata": {},
   "source": [
    "Now, each dimension can have a few possible values. `istatapi` provides a quick method to analyze these values and print their English descriptions. "
   ]
  },
  {
   "cell_type": "code",
   "execution_count": 6,
   "metadata": {},
   "outputs": [
    {
     "data": {
      "text/html": [
       "<div>\n",
       "<style scoped>\n",
       "    .dataframe tbody tr th:only-of-type {\n",
       "        vertical-align: middle;\n",
       "    }\n",
       "\n",
       "    .dataframe tbody tr th {\n",
       "        vertical-align: top;\n",
       "    }\n",
       "\n",
       "    .dataframe thead th {\n",
       "        text-align: right;\n",
       "    }\n",
       "</style>\n",
       "<table border=\"1\" class=\"dataframe\">\n",
       "  <thead>\n",
       "    <tr style=\"text-align: right;\">\n",
       "      <th></th>\n",
       "      <th>values_ids</th>\n",
       "      <th>values_description</th>\n",
       "    </tr>\n",
       "  </thead>\n",
       "  <tbody>\n",
       "    <tr>\n",
       "      <th>0</th>\n",
       "      <td>SERV_TURN_2</td>\n",
       "      <td>indexes of turnover in other services - base 2...</td>\n",
       "    </tr>\n",
       "    <tr>\n",
       "      <th>1</th>\n",
       "      <td>SERV_TURN_1</td>\n",
       "      <td>indexes of turnover in other services - base 2...</td>\n",
       "    </tr>\n",
       "    <tr>\n",
       "      <th>2</th>\n",
       "      <td>SERV_TURN</td>\n",
       "      <td>indexes of turnover in other services - base 2...</td>\n",
       "    </tr>\n",
       "  </tbody>\n",
       "</table>\n",
       "</div>"
      ],
      "text/plain": [
       "    values_ids                                 values_description\n",
       "0  SERV_TURN_2  indexes of turnover in other services - base 2...\n",
       "1  SERV_TURN_1  indexes of turnover in other services - base 2...\n",
       "2    SERV_TURN  indexes of turnover in other services - base 2..."
      ]
     },
     "execution_count": 6,
     "metadata": {},
     "output_type": "execute_result"
    }
   ],
   "source": [
    "dimension = \"TIPO_DATO\"\n",
    "ds.get_dimension_values(dimension)"
   ]
  },
  {
   "cell_type": "markdown",
   "metadata": {},
   "source": [
    "If we do not filter any of our variables, the data will just include all the possible values in the dataset. This could result in too much data that would slow our code and make it difficult to analyze. Thus, we need to filter our dataset. To do so, we can simply use the `values_ids` that we found using the function `get_dimension_values` in the cell above.\n",
    "\n",
    "**Note**: Make sure to pass the names of the dimensions in lower case letters as arguments of the `set_filter` function. If you want to filter for multiple values, simply pass them as lists."
   ]
  },
  {
   "cell_type": "code",
   "execution_count": 7,
   "metadata": {},
   "outputs": [],
   "source": [
    "ateco_2007 = [\"0014\", \"J\"] #TOTAL AND ITC services \n",
    "tipo_dato = \"SERV_TURN_2\" #type of data\n",
    "adjustment = \"Y\" #seasonally adjusted data\n",
    "\n",
    "ds.set_filters(ateco_2007=ateco_2007, tipo_dato=tipo_dato, adjustment=adjustment)"
   ]
  },
  {
   "cell_type": "markdown",
   "metadata": {},
   "source": [
    "Having set our filters, we can now finally retrieve the data by simply passing our DataSet instance to the function get_data. It will return a pandas DataFrame with all the data that we requested. The data will be already sorted by datetime"
   ]
  },
  {
   "cell_type": "code",
   "execution_count": 8,
   "metadata": {},
   "outputs": [
    {
     "name": "stderr",
     "output_type": "stream",
     "text": [
      "/Users/jacopo/Desktop/projects/istatapi/istatapi/retrieval.py:29: UserWarning: Could not infer format, so each element will be parsed individually, falling back to `dateutil`. To ensure parsing is consistent and as-expected, please specify a format.\n",
      "  df[\"TIME_PERIOD\"] = pd.to_datetime(\n"
     ]
    },
    {
     "data": {
      "text/html": [
       "<div>\n",
       "<style scoped>\n",
       "    .dataframe tbody tr th:only-of-type {\n",
       "        vertical-align: middle;\n",
       "    }\n",
       "\n",
       "    .dataframe tbody tr th {\n",
       "        vertical-align: top;\n",
       "    }\n",
       "\n",
       "    .dataframe thead th {\n",
       "        text-align: right;\n",
       "    }\n",
       "</style>\n",
       "<table border=\"1\" class=\"dataframe\">\n",
       "  <thead>\n",
       "    <tr style=\"text-align: right;\">\n",
       "      <th></th>\n",
       "      <th>DATAFLOW</th>\n",
       "      <th>FREQ</th>\n",
       "      <th>ATECO_2007</th>\n",
       "      <th>ADJUSTMENT</th>\n",
       "      <th>ITTER107</th>\n",
       "      <th>TIPO_DATO</th>\n",
       "      <th>TIME_PERIOD</th>\n",
       "      <th>OBS_VALUE</th>\n",
       "      <th>BREAK</th>\n",
       "      <th>CONF_STATUS</th>\n",
       "      <th>OBS_PRE_BREAK</th>\n",
       "      <th>OBS_STATUS</th>\n",
       "      <th>BASE_PER</th>\n",
       "      <th>UNIT_MEAS</th>\n",
       "      <th>UNIT_MULT</th>\n",
       "      <th>METADATA_EN</th>\n",
       "      <th>METADATA_IT</th>\n",
       "    </tr>\n",
       "  </thead>\n",
       "  <tbody>\n",
       "    <tr>\n",
       "      <th>90</th>\n",
       "      <td>IT1:119_367(1.3)</td>\n",
       "      <td>Q</td>\n",
       "      <td>J</td>\n",
       "      <td>Y</td>\n",
       "      <td>IT</td>\n",
       "      <td>SERV_TURN_2</td>\n",
       "      <td>2000-01-01</td>\n",
       "      <td>100.8</td>\n",
       "      <td>NaN</td>\n",
       "      <td>NaN</td>\n",
       "      <td>NaN</td>\n",
       "      <td>NaN</td>\n",
       "      <td>NaN</td>\n",
       "      <td>NaN</td>\n",
       "      <td>NaN</td>\n",
       "      <td>NaN</td>\n",
       "      <td>NaN</td>\n",
       "    </tr>\n",
       "    <tr>\n",
       "      <th>91</th>\n",
       "      <td>IT1:119_367(1.3)</td>\n",
       "      <td>Q</td>\n",
       "      <td>J</td>\n",
       "      <td>Y</td>\n",
       "      <td>IT</td>\n",
       "      <td>SERV_TURN_2</td>\n",
       "      <td>2000-04-01</td>\n",
       "      <td>99.3</td>\n",
       "      <td>NaN</td>\n",
       "      <td>NaN</td>\n",
       "      <td>NaN</td>\n",
       "      <td>NaN</td>\n",
       "      <td>NaN</td>\n",
       "      <td>NaN</td>\n",
       "      <td>NaN</td>\n",
       "      <td>NaN</td>\n",
       "      <td>NaN</td>\n",
       "    </tr>\n",
       "    <tr>\n",
       "      <th>92</th>\n",
       "      <td>IT1:119_367(1.3)</td>\n",
       "      <td>Q</td>\n",
       "      <td>J</td>\n",
       "      <td>Y</td>\n",
       "      <td>IT</td>\n",
       "      <td>SERV_TURN_2</td>\n",
       "      <td>2000-07-01</td>\n",
       "      <td>100.3</td>\n",
       "      <td>NaN</td>\n",
       "      <td>NaN</td>\n",
       "      <td>NaN</td>\n",
       "      <td>NaN</td>\n",
       "      <td>NaN</td>\n",
       "      <td>NaN</td>\n",
       "      <td>NaN</td>\n",
       "      <td>NaN</td>\n",
       "      <td>NaN</td>\n",
       "    </tr>\n",
       "    <tr>\n",
       "      <th>93</th>\n",
       "      <td>IT1:119_367(1.3)</td>\n",
       "      <td>Q</td>\n",
       "      <td>J</td>\n",
       "      <td>Y</td>\n",
       "      <td>IT</td>\n",
       "      <td>SERV_TURN_2</td>\n",
       "      <td>2000-10-01</td>\n",
       "      <td>102.4</td>\n",
       "      <td>NaN</td>\n",
       "      <td>NaN</td>\n",
       "      <td>NaN</td>\n",
       "      <td>NaN</td>\n",
       "      <td>NaN</td>\n",
       "      <td>NaN</td>\n",
       "      <td>NaN</td>\n",
       "      <td>NaN</td>\n",
       "      <td>NaN</td>\n",
       "    </tr>\n",
       "    <tr>\n",
       "      <th>94</th>\n",
       "      <td>IT1:119_367(1.3)</td>\n",
       "      <td>Q</td>\n",
       "      <td>J</td>\n",
       "      <td>Y</td>\n",
       "      <td>IT</td>\n",
       "      <td>SERV_TURN_2</td>\n",
       "      <td>2001-01-01</td>\n",
       "      <td>101.9</td>\n",
       "      <td>NaN</td>\n",
       "      <td>NaN</td>\n",
       "      <td>NaN</td>\n",
       "      <td>NaN</td>\n",
       "      <td>NaN</td>\n",
       "      <td>NaN</td>\n",
       "      <td>NaN</td>\n",
       "      <td>NaN</td>\n",
       "      <td>NaN</td>\n",
       "    </tr>\n",
       "  </tbody>\n",
       "</table>\n",
       "</div>"
      ],
      "text/plain": [
       "            DATAFLOW FREQ ATECO_2007 ADJUSTMENT ITTER107    TIPO_DATO  \\\n",
       "90  IT1:119_367(1.3)    Q          J          Y       IT  SERV_TURN_2   \n",
       "91  IT1:119_367(1.3)    Q          J          Y       IT  SERV_TURN_2   \n",
       "92  IT1:119_367(1.3)    Q          J          Y       IT  SERV_TURN_2   \n",
       "93  IT1:119_367(1.3)    Q          J          Y       IT  SERV_TURN_2   \n",
       "94  IT1:119_367(1.3)    Q          J          Y       IT  SERV_TURN_2   \n",
       "\n",
       "   TIME_PERIOD  OBS_VALUE  BREAK  CONF_STATUS  OBS_PRE_BREAK  OBS_STATUS  \\\n",
       "90  2000-01-01      100.8    NaN          NaN            NaN         NaN   \n",
       "91  2000-04-01       99.3    NaN          NaN            NaN         NaN   \n",
       "92  2000-07-01      100.3    NaN          NaN            NaN         NaN   \n",
       "93  2000-10-01      102.4    NaN          NaN            NaN         NaN   \n",
       "94  2001-01-01      101.9    NaN          NaN            NaN         NaN   \n",
       "\n",
       "    BASE_PER  UNIT_MEAS  UNIT_MULT  METADATA_EN  METADATA_IT  \n",
       "90       NaN        NaN        NaN          NaN          NaN  \n",
       "91       NaN        NaN        NaN          NaN          NaN  \n",
       "92       NaN        NaN        NaN          NaN          NaN  \n",
       "93       NaN        NaN        NaN          NaN          NaN  \n",
       "94       NaN        NaN        NaN          NaN          NaN  "
      ]
     },
     "execution_count": 8,
     "metadata": {},
     "output_type": "execute_result"
    }
   ],
   "source": [
    "service_df = get_data(ds)\n",
    "service_df.head()"
   ]
  },
  {
   "cell_type": "code",
   "execution_count": 9,
   "metadata": {},
   "outputs": [
    {
     "data": {
      "image/png": "[encoded data removed]",
      "text/plain": [
       "<Figure size 640x480 with 1 Axes>"
      ]
     },
     "metadata": {},
     "output_type": "display_data"
    }
   ],
   "source": [
    "# Plot the data\n",
    "is_0014 = service_df[\"ATECO_2007\"] == \"0014\"\n",
    "is_J = service_df[\"ATECO_2007\"] == \"J\"\n",
    "after_2013 = service_df[\"TIME_PERIOD\"] >= \"2013\"\n",
    "\n",
    "\n",
    "plt.plot(\n",
    "    \"TIME_PERIOD\",\n",
    "    \"OBS_VALUE\",\n",
    "    data=service_df[is_0014 & after_2013],\n",
    "    marker=\"\",\n",
    "    color=\"blue\",\n",
    "    linewidth=2,\n",
    ")\n",
    "plt.plot(\n",
    "    \"TIME_PERIOD\",\n",
    "    \"OBS_VALUE\",\n",
    "    data=service_df[is_J & after_2013],\n",
    "    marker=\"\",\n",
    "    color=\"red\",\n",
    "    linewidth=1,\n",
    ")\n",
    "plt.axhline(y=100, color=\"black\", linewidth=0.5, linestyle=\"-\")\n",
    "plt.legend()\n",
    "plt.rcParams[\"figure.figsize\"] = (15, 4)"
   ]
  },
  {
   "cell_type": "markdown",
   "metadata": {},
   "source": [
    "And That's it! With a few lines of code we were able to neatly reproduce the graph!"
   ]
  }
 ],
 "metadata": {
  "kernelspec": {
   "display_name": "base",
   "language": "python",
   "name": "python3"
  },
  "language_info": {
   "codemirror_mode": {
    "name": "ipython",
    "version": 3
   },
   "file_extension": ".py",
   "mimetype": "text/x-python",
   "name": "python",
   "nbconvert_exporter": "python",
   "pygments_lexer": "ipython3",
   "version": "3.11.5"
  },
  "vscode": {
   "interpreter": {
    "hash": "1312b6235ef8fda86284569fa4b7b8d2a983471148651d2aebeaa737f1ab052d"
   }
  }
 },
 "nbformat": 4,
 "nbformat_minor": 4
}
