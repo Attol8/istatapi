{
 "cells": [
  {
   "attachments": {},
   "cell_type": "markdown",
   "metadata": {},
   "source": [
    "# Resident Population over time"
   ]
  },
  {
   "cell_type": "code",
   "execution_count": 12,
   "metadata": {},
   "outputs": [],
   "source": [
    "from nbdev import *\n",
    "from istatapi import *\n",
    "import matplotlib.pyplot as plt\n",
    "import pandas as pd\n",
    "import seaborn as sns\n",
    "\n",
    "# set matplotlib themes\n",
    "plt.style.use('fivethirtyeight')\n",
    "plt.rcParams['figure.figsize'] = [16, 5]\n",
    "#fiveThirtyEight palette\n",
    "colors = ['#30a2da', '#fc4f30', '#e5ae38', '#6d904f', '#8b8b8b']"
   ]
  },
  {
   "cell_type": "markdown",
   "metadata": {},
   "source": [
    "The graph we are trying to reproduce is about imports and exports. With `istatapi` we can search through all the available datasets by simply using the following function:"
   ]
  },
  {
   "cell_type": "code",
   "execution_count": 13,
   "metadata": {},
   "outputs": [
    {
     "data": {
      "text/html": [
       "<div>\n",
       "<style scoped>\n",
       "    .dataframe tbody tr th:only-of-type {\n",
       "        vertical-align: middle;\n",
       "    }\n",
       "\n",
       "    .dataframe tbody tr th {\n",
       "        vertical-align: top;\n",
       "    }\n",
       "\n",
       "    .dataframe thead th {\n",
       "        text-align: right;\n",
       "    }\n",
       "</style>\n",
       "<table border=\"1\" class=\"dataframe\">\n",
       "  <thead>\n",
       "    <tr style=\"text-align: right;\">\n",
       "      <th></th>\n",
       "      <th>df_id</th>\n",
       "      <th>version</th>\n",
       "      <th>df_description</th>\n",
       "      <th>df_structure_id</th>\n",
       "    </tr>\n",
       "  </thead>\n",
       "  <tbody>\n",
       "    <tr>\n",
       "      <th>208</th>\n",
       "      <td>22_289</td>\n",
       "      <td>1.5</td>\n",
       "      <td>Resident population  on 1st January</td>\n",
       "      <td>DCIS_POPRES1</td>\n",
       "    </tr>\n",
       "  </tbody>\n",
       "</table>\n",
       "</div>"
      ],
      "text/plain": [
       "      df_id version                       df_description df_structure_id\n",
       "208  22_289     1.5  Resident population  on 1st January    DCIS_POPRES1"
      ]
     },
     "execution_count": 13,
     "metadata": {},
     "output_type": "execute_result"
    }
   ],
   "source": [
    "all_available_df = all_available()\n",
    "all_available_df.query('df_id == \"22_289\"')"
   ]
  },
  {
   "cell_type": "markdown",
   "metadata": {},
   "source": [
    "To retrieve data from a specific dataset, we first need to create an instance of the `DataSet` class. We can use `df_id`, `df_description` or `df_structure_id` from the above DataFrame. This may take a few seconds to load."
   ]
  },
  {
   "cell_type": "code",
   "execution_count": 14,
   "metadata": {},
   "outputs": [],
   "source": [
    "# initialize the dataset and get its dimensions\n",
    "ds = DataSet(dataflow_identifier=\"22_289\")"
   ]
  },
  {
   "cell_type": "markdown",
   "metadata": {},
   "source": [
    "We now want to see what variables are included in the dataset that we are analysing. With `istatapi` we can easily print its variables (\"dimensions\" in ISTAT terminology) and their description."
   ]
  },
  {
   "cell_type": "code",
   "execution_count": 15,
   "metadata": {},
   "outputs": [
    {
     "data": {
      "text/html": [
       "<div>\n",
       "<style scoped>\n",
       "    .dataframe tbody tr th:only-of-type {\n",
       "        vertical-align: middle;\n",
       "    }\n",
       "\n",
       "    .dataframe tbody tr th {\n",
       "        vertical-align: top;\n",
       "    }\n",
       "\n",
       "    .dataframe thead th {\n",
       "        text-align: right;\n",
       "    }\n",
       "</style>\n",
       "<table border=\"1\" class=\"dataframe\">\n",
       "  <thead>\n",
       "    <tr style=\"text-align: right;\">\n",
       "      <th></th>\n",
       "      <th>dimension</th>\n",
       "      <th>dimension_ID</th>\n",
       "      <th>description</th>\n",
       "    </tr>\n",
       "  </thead>\n",
       "  <tbody>\n",
       "    <tr>\n",
       "      <th>0</th>\n",
       "      <td>FREQ</td>\n",
       "      <td>CL_FREQ</td>\n",
       "      <td>Frequency</td>\n",
       "    </tr>\n",
       "    <tr>\n",
       "      <th>1</th>\n",
       "      <td>ETA</td>\n",
       "      <td>CL_ETA1</td>\n",
       "      <td>Age class</td>\n",
       "    </tr>\n",
       "    <tr>\n",
       "      <th>2</th>\n",
       "      <td>ITTER107</td>\n",
       "      <td>CL_ITTER107</td>\n",
       "      <td>Territory</td>\n",
       "    </tr>\n",
       "    <tr>\n",
       "      <th>3</th>\n",
       "      <td>SESSO</td>\n",
       "      <td>CL_SEXISTAT1</td>\n",
       "      <td>Gender</td>\n",
       "    </tr>\n",
       "    <tr>\n",
       "      <th>4</th>\n",
       "      <td>STACIVX</td>\n",
       "      <td>CL_STATCIV2</td>\n",
       "      <td>Marital status</td>\n",
       "    </tr>\n",
       "    <tr>\n",
       "      <th>5</th>\n",
       "      <td>TIPO_INDDEM</td>\n",
       "      <td>CL_TIPO_DATO15</td>\n",
       "      <td>Data type 15</td>\n",
       "    </tr>\n",
       "  </tbody>\n",
       "</table>\n",
       "</div>"
      ],
      "text/plain": [
       "     dimension    dimension_ID     description\n",
       "0         FREQ         CL_FREQ       Frequency\n",
       "1          ETA         CL_ETA1       Age class\n",
       "2     ITTER107     CL_ITTER107       Territory\n",
       "3        SESSO    CL_SEXISTAT1          Gender\n",
       "4      STACIVX     CL_STATCIV2  Marital status\n",
       "5  TIPO_INDDEM  CL_TIPO_DATO15    Data type 15"
      ]
     },
     "execution_count": 15,
     "metadata": {},
     "output_type": "execute_result"
    }
   ],
   "source": [
    "ds.dimensions_info()"
   ]
  },
  {
   "cell_type": "markdown",
   "metadata": {},
   "source": [
    "Now, each dimension can have a few possible values. `istatapi` provides a quick method to analyze these values and print their English descriptions. "
   ]
  },
  {
   "cell_type": "code",
   "execution_count": 16,
   "metadata": {},
   "outputs": [
    {
     "data": {
      "text/html": [
       "<div>\n",
       "<style scoped>\n",
       "    .dataframe tbody tr th:only-of-type {\n",
       "        vertical-align: middle;\n",
       "    }\n",
       "\n",
       "    .dataframe tbody tr th {\n",
       "        vertical-align: top;\n",
       "    }\n",
       "\n",
       "    .dataframe thead th {\n",
       "        text-align: right;\n",
       "    }\n",
       "</style>\n",
       "<table border=\"1\" class=\"dataframe\">\n",
       "  <thead>\n",
       "    <tr style=\"text-align: right;\">\n",
       "      <th></th>\n",
       "      <th>values_ids</th>\n",
       "      <th>values_description</th>\n",
       "    </tr>\n",
       "  </thead>\n",
       "  <tbody>\n",
       "    <tr>\n",
       "      <th>0</th>\n",
       "      <td>1</td>\n",
       "      <td>males</td>\n",
       "    </tr>\n",
       "    <tr>\n",
       "      <th>1</th>\n",
       "      <td>9</td>\n",
       "      <td>total</td>\n",
       "    </tr>\n",
       "    <tr>\n",
       "      <th>2</th>\n",
       "      <td>2</td>\n",
       "      <td>females</td>\n",
       "    </tr>\n",
       "  </tbody>\n",
       "</table>\n",
       "</div>"
      ],
      "text/plain": [
       "  values_ids values_description\n",
       "0          1              males\n",
       "1          9              total\n",
       "2          2            females"
      ]
     },
     "execution_count": 16,
     "metadata": {},
     "output_type": "execute_result"
    }
   ],
   "source": [
    "dimension = \"SESSO\" #use \"dimension\" column from above\n",
    "ds.get_dimension_values(dimension)"
   ]
  },
  {
   "cell_type": "markdown",
   "metadata": {},
   "source": [
    "If we do not filter any of our variables, the data will just include all the possible values in the dataset. This could result in too much data that would slow our code and make it difficult to analyze. Thus, we need to filter our dataset. To do so, we can simply use the `values_ids` that we found using the function `get_dimension_values` in the cell above.\n",
    "\n",
    "**Note**: Make sure to pass the names of the dimensions in lower case letters as arguments of the `set_filter` function. If you want to filter for multiple values, simply pass them as lists."
   ]
  },
  {
   "cell_type": "code",
   "execution_count": 17,
   "metadata": {},
   "outputs": [],
   "source": [
    "freq = \"A\" #Annual frequency\n",
    "itter107 = 'IT' #Italy\n",
    "stacivx = \"99\" #total marital status\n",
    "sesso = \"9\" #total\n",
    "\n",
    "ds.set_filters(freq = freq, itter107 = itter107, stacivx = stacivx, sesso = sesso)"
   ]
  },
  {
   "cell_type": "markdown",
   "metadata": {},
   "source": [
    "Having set our filters, we can now finally retrieve the data by simply passing our `DataSet` instance to the function `get_data`. It will return a pandas DataFrame with all the data that we requested. The data will be already sorted by datetime"
   ]
  },
  {
   "cell_type": "code",
   "execution_count": 18,
   "metadata": {},
   "outputs": [
    {
     "data": {
      "text/html": [
       "<div>\n",
       "<style scoped>\n",
       "    .dataframe tbody tr th:only-of-type {\n",
       "        vertical-align: middle;\n",
       "    }\n",
       "\n",
       "    .dataframe tbody tr th {\n",
       "        vertical-align: top;\n",
       "    }\n",
       "\n",
       "    .dataframe thead th {\n",
       "        text-align: right;\n",
       "    }\n",
       "</style>\n",
       "<table border=\"1\" class=\"dataframe\">\n",
       "  <thead>\n",
       "    <tr style=\"text-align: right;\">\n",
       "      <th></th>\n",
       "      <th>DATAFLOW</th>\n",
       "      <th>FREQ</th>\n",
       "      <th>ETA</th>\n",
       "      <th>ITTER107</th>\n",
       "      <th>SESSO</th>\n",
       "      <th>STACIVX</th>\n",
       "      <th>TIPO_INDDEM</th>\n",
       "      <th>TIME_PERIOD</th>\n",
       "      <th>OBS_VALUE</th>\n",
       "      <th>BREAK</th>\n",
       "      <th>CONF_STATUS</th>\n",
       "      <th>OBS_PRE_BREAK</th>\n",
       "      <th>OBS_STATUS</th>\n",
       "      <th>BASE_PER</th>\n",
       "      <th>UNIT_MEAS</th>\n",
       "      <th>UNIT_MULT</th>\n",
       "      <th>METADATA_EN</th>\n",
       "      <th>METADATA_IT</th>\n",
       "    </tr>\n",
       "  </thead>\n",
       "  <tbody>\n",
       "    <tr>\n",
       "      <th>0</th>\n",
       "      <td>IT1:22_289(1.5)</td>\n",
       "      <td>A</td>\n",
       "      <td>TOTAL</td>\n",
       "      <td>IT</td>\n",
       "      <td>9</td>\n",
       "      <td>99</td>\n",
       "      <td>JAN</td>\n",
       "      <td>2019-01-01</td>\n",
       "      <td>59816673</td>\n",
       "      <td>NaN</td>\n",
       "      <td>NaN</td>\n",
       "      <td>NaN</td>\n",
       "      <td>NaN</td>\n",
       "      <td>NaN</td>\n",
       "      <td>NaN</td>\n",
       "      <td>NaN</td>\n",
       "      <td>NaN</td>\n",
       "      <td>NaN</td>\n",
       "    </tr>\n",
       "    <tr>\n",
       "      <th>250</th>\n",
       "      <td>IT1:22_289(1.5)</td>\n",
       "      <td>A</td>\n",
       "      <td>Y52</td>\n",
       "      <td>IT</td>\n",
       "      <td>9</td>\n",
       "      <td>99</td>\n",
       "      <td>JAN</td>\n",
       "      <td>2019-01-01</td>\n",
       "      <td>983002</td>\n",
       "      <td>NaN</td>\n",
       "      <td>NaN</td>\n",
       "      <td>NaN</td>\n",
       "      <td>NaN</td>\n",
       "      <td>NaN</td>\n",
       "      <td>NaN</td>\n",
       "      <td>NaN</td>\n",
       "      <td>NaN</td>\n",
       "      <td>NaN</td>\n",
       "    </tr>\n",
       "    <tr>\n",
       "      <th>255</th>\n",
       "      <td>IT1:22_289(1.5)</td>\n",
       "      <td>A</td>\n",
       "      <td>Y53</td>\n",
       "      <td>IT</td>\n",
       "      <td>9</td>\n",
       "      <td>99</td>\n",
       "      <td>JAN</td>\n",
       "      <td>2019-01-01</td>\n",
       "      <td>980231</td>\n",
       "      <td>NaN</td>\n",
       "      <td>NaN</td>\n",
       "      <td>NaN</td>\n",
       "      <td>NaN</td>\n",
       "      <td>NaN</td>\n",
       "      <td>NaN</td>\n",
       "      <td>NaN</td>\n",
       "      <td>NaN</td>\n",
       "      <td>NaN</td>\n",
       "    </tr>\n",
       "    <tr>\n",
       "      <th>105</th>\n",
       "      <td>IT1:22_289(1.5)</td>\n",
       "      <td>A</td>\n",
       "      <td>Y26</td>\n",
       "      <td>IT</td>\n",
       "      <td>9</td>\n",
       "      <td>99</td>\n",
       "      <td>JAN</td>\n",
       "      <td>2019-01-01</td>\n",
       "      <td>636390</td>\n",
       "      <td>NaN</td>\n",
       "      <td>NaN</td>\n",
       "      <td>NaN</td>\n",
       "      <td>NaN</td>\n",
       "      <td>NaN</td>\n",
       "      <td>NaN</td>\n",
       "      <td>NaN</td>\n",
       "      <td>NaN</td>\n",
       "      <td>NaN</td>\n",
       "    </tr>\n",
       "    <tr>\n",
       "      <th>260</th>\n",
       "      <td>IT1:22_289(1.5)</td>\n",
       "      <td>A</td>\n",
       "      <td>Y54</td>\n",
       "      <td>IT</td>\n",
       "      <td>9</td>\n",
       "      <td>99</td>\n",
       "      <td>JAN</td>\n",
       "      <td>2019-01-01</td>\n",
       "      <td>992363</td>\n",
       "      <td>NaN</td>\n",
       "      <td>NaN</td>\n",
       "      <td>NaN</td>\n",
       "      <td>NaN</td>\n",
       "      <td>NaN</td>\n",
       "      <td>NaN</td>\n",
       "      <td>NaN</td>\n",
       "      <td>NaN</td>\n",
       "      <td>NaN</td>\n",
       "    </tr>\n",
       "  </tbody>\n",
       "</table>\n",
       "</div>"
      ],
      "text/plain": [
       "            DATAFLOW FREQ    ETA ITTER107  SESSO  STACIVX TIPO_INDDEM  \\\n",
       "0    IT1:22_289(1.5)    A  TOTAL       IT      9       99         JAN   \n",
       "250  IT1:22_289(1.5)    A    Y52       IT      9       99         JAN   \n",
       "255  IT1:22_289(1.5)    A    Y53       IT      9       99         JAN   \n",
       "105  IT1:22_289(1.5)    A    Y26       IT      9       99         JAN   \n",
       "260  IT1:22_289(1.5)    A    Y54       IT      9       99         JAN   \n",
       "\n",
       "    TIME_PERIOD  OBS_VALUE  BREAK  CONF_STATUS  OBS_PRE_BREAK OBS_STATUS  \\\n",
       "0    2019-01-01   59816673    NaN          NaN            NaN        NaN   \n",
       "250  2019-01-01     983002    NaN          NaN            NaN        NaN   \n",
       "255  2019-01-01     980231    NaN          NaN            NaN        NaN   \n",
       "105  2019-01-01     636390    NaN          NaN            NaN        NaN   \n",
       "260  2019-01-01     992363    NaN          NaN            NaN        NaN   \n",
       "\n",
       "     BASE_PER  UNIT_MEAS  UNIT_MULT  METADATA_EN  METADATA_IT  \n",
       "0         NaN        NaN        NaN          NaN          NaN  \n",
       "250       NaN        NaN        NaN          NaN          NaN  \n",
       "255       NaN        NaN        NaN          NaN          NaN  \n",
       "105       NaN        NaN        NaN          NaN          NaN  \n",
       "260       NaN        NaN        NaN          NaN          NaN  "
      ]
     },
     "execution_count": 18,
     "metadata": {},
     "output_type": "execute_result"
    }
   ],
   "source": [
    "residents_df = get_data(ds)\n",
    "residents_df.head()"
   ]
  },
  {
   "cell_type": "code",
   "execution_count": 19,
   "metadata": {},
   "outputs": [
    {
     "data": {
      "text/plain": [
       "<DatetimeArray>\n",
       "['2019-01-01 00:00:00', '2020-01-01 00:00:00', '2021-01-01 00:00:00',\n",
       " '2022-01-01 00:00:00', '2023-01-01 00:00:00']\n",
       "Length: 5, dtype: datetime64[ns]"
      ]
     },
     "execution_count": 19,
     "metadata": {},
     "output_type": "execute_result"
    }
   ],
   "source": [
    "residents_df.TIME_PERIOD.unique()"
   ]
  },
  {
   "cell_type": "code",
   "execution_count": 20,
   "metadata": {},
   "outputs": [
    {
     "name": "stderr",
     "output_type": "stream",
     "text": [
      "/var/folders/nv/1j84v2y15czd4v1mcwd58r780000gq/T/ipykernel_6377/2170393130.py:10: FutureWarning: The default of observed=False is deprecated and will be changed to True in a future version of pandas. Pass observed=False to retain current behavior or observed=True to adopt the future default and silence this warning.\n",
      "  .groupby(['year', 'ETA_bin']).sum().reset_index()\n"
     ]
    }
   ],
   "source": [
    "import numpy as np\n",
    "def tweak_residents_df(residents_df):\n",
    "    residents_df = residents_df.query('ETA != \"TOTAL\"').copy()\n",
    "    \n",
    "    residents_df = residents_df.rename(columns={\"TIME_PERIOD\": \"year\"})\n",
    "    residents_df['year'] = pd.to_datetime(residents_df['year'], format='%Y')\n",
    "    residents_df['ETA'] = residents_df['ETA'].astype(str).str.replace('Y', '').str.replace('_GE100', '100').astype(int)\n",
    "    residents_df['ETA_bin'] = pd.cut(residents_df['ETA'], bins= [0, 25, 45, 65, np.inf], labels=['0-25', '25-45', '45-65', '65+'])\n",
    "    return (residents_df\n",
    "            .groupby(['year', 'ETA_bin']).sum().reset_index()\n",
    "            )\n",
    "\n",
    "residents_df2 = tweak_residents_df(residents_df)"
   ]
  },
  {
   "cell_type": "code",
   "execution_count": 21,
   "metadata": {},
   "outputs": [
    {
     "data": {
      "image/png": "[encoded data removed]",
      "text/plain": [
       "<Figure size 1600x500 with 1 Axes>"
      ]
     },
     "metadata": {},
     "output_type": "display_data"
    }
   ],
   "source": [
    "# Plot the data\n",
    "sns.lineplot(data=residents_df2, x=\"year\", y=\"OBS_VALUE\", hue=\"ETA_bin\", marker = 'X')\n",
    "plt.rcParams[\"figure.figsize\"] = (15, 4)\n",
    "plt.ticklabel_format(style='plain', axis='y')"
   ]
  },
  {
   "cell_type": "markdown",
   "metadata": {},
   "source": [
    "And That's it! With a few lines of code we were able to neatly reproduce the graph!"
   ]
  }
 ],
 "metadata": {
  "kernelspec": {
   "display_name": "base",
   "language": "python",
   "name": "python3"
  },
  "language_info": {
   "codemirror_mode": {
    "name": "ipython",
    "version": 3
   },
   "file_extension": ".py",
   "mimetype": "text/x-python",
   "name": "python",
   "nbconvert_exporter": "python",
   "pygments_lexer": "ipython3",
   "version": "3.11.5"
  },
  "vscode": {
   "interpreter": {
    "hash": "1312b6235ef8fda86284569fa4b7b8d2a983471148651d2aebeaa737f1ab052d"
   }
  }
 },
 "nbformat": 4,
 "nbformat_minor": 4
}
