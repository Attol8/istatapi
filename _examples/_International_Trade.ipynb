{
 "cells": [
  {
   "cell_type": "markdown",
   "metadata": {},
   "source": [
    "# International Trade\n",
    "\n",
    "Here we are trying to reproduce the graph under the section 'COMMERCIO CON L'ESTERO' at https://www.istat.it/it/congiuntura"
   ]
  },
  {
   "cell_type": "code",
   "execution_count": 19,
   "metadata": {},
   "outputs": [],
   "source": [
    "from nbdev import *\n",
    "from istatapi import *\n",
    "import matplotlib.pyplot as plt\n",
    "import pandas as pd\n",
    "\n",
    "# set matplotlib themes\n",
    "plt.style.use('fivethirtyeight')\n",
    "plt.rcParams['figure.figsize'] = [16, 5]"
   ]
  },
  {
   "cell_type": "markdown",
   "metadata": {},
   "source": [
    "The graph we are trying to reproduce is about imports and exports. With `istatapi` we can search through all the available datasets by simply using the following function:"
   ]
  },
  {
   "cell_type": "code",
   "execution_count": 20,
   "metadata": {},
   "outputs": [
    {
     "data": {
      "text/html": [
       "<div>\n",
       "<style scoped>\n",
       "    .dataframe tbody tr th:only-of-type {\n",
       "        vertical-align: middle;\n",
       "    }\n",
       "\n",
       "    .dataframe tbody tr th {\n",
       "        vertical-align: top;\n",
       "    }\n",
       "\n",
       "    .dataframe thead th {\n",
       "        text-align: right;\n",
       "    }\n",
       "</style>\n",
       "<table border=\"1\" class=\"dataframe\">\n",
       "  <thead>\n",
       "    <tr style=\"text-align: right;\">\n",
       "      <th></th>\n",
       "      <th>df_id</th>\n",
       "      <th>version</th>\n",
       "      <th>df_description</th>\n",
       "      <th>df_structure_id</th>\n",
       "    </tr>\n",
       "  </thead>\n",
       "  <tbody>\n",
       "    <tr>\n",
       "      <th>10</th>\n",
       "      <td>101_962</td>\n",
       "      <td>1.0</td>\n",
       "      <td>Livestock import export</td>\n",
       "      <td>DCSP_LIVESTIMPEXP</td>\n",
       "    </tr>\n",
       "    <tr>\n",
       "      <th>47</th>\n",
       "      <td>139_176</td>\n",
       "      <td>1.0</td>\n",
       "      <td>Import and export by country and commodity Nac...</td>\n",
       "      <td>DCSP_COEIMPEX1</td>\n",
       "    </tr>\n",
       "    <tr>\n",
       "      <th>49</th>\n",
       "      <td>143_222</td>\n",
       "      <td>1.0</td>\n",
       "      <td>Import price index - monthly data</td>\n",
       "      <td>DCSC_PREIMPIND</td>\n",
       "    </tr>\n",
       "  </tbody>\n",
       "</table>\n",
       "</div>"
      ],
      "text/plain": [
       "      df_id version                                     df_description  \\\n",
       "10  101_962     1.0                            Livestock import export   \n",
       "47  139_176     1.0  Import and export by country and commodity Nac...   \n",
       "49  143_222     1.0                  Import price index - monthly data   \n",
       "\n",
       "      df_structure_id  \n",
       "10  DCSP_LIVESTIMPEXP  \n",
       "47     DCSP_COEIMPEX1  \n",
       "49     DCSC_PREIMPIND  "
      ]
     },
     "execution_count": 20,
     "metadata": {},
     "output_type": "execute_result"
    }
   ],
   "source": [
    "search_dataset(\"import\")"
   ]
  },
  {
   "cell_type": "markdown",
   "metadata": {},
   "source": [
    "To retrieve data from a specific dataset, we first need to create an instance of the `DataSet` class. We can use `df_id`, `df_description` or `df_structure_id` from the above DataFrame. This may take a few seconds to load."
   ]
  },
  {
   "cell_type": "code",
   "execution_count": 21,
   "metadata": {},
   "outputs": [],
   "source": [
    "# initialize the dataset and get its dimensions\n",
    "ds = DataSet(dataflow_identifier=\"139_176\")"
   ]
  },
  {
   "cell_type": "markdown",
   "metadata": {},
   "source": [
    "We now want to see what variables are included in the dataset that we are analysing. With `istatapi` we can easily print its variables (\"dimensions\" in ISTAT terminology) and their description."
   ]
  },
  {
   "cell_type": "code",
   "execution_count": 22,
   "metadata": {},
   "outputs": [
    {
     "data": {
      "text/html": [
       "<div>\n",
       "<style scoped>\n",
       "    .dataframe tbody tr th:only-of-type {\n",
       "        vertical-align: middle;\n",
       "    }\n",
       "\n",
       "    .dataframe tbody tr th {\n",
       "        vertical-align: top;\n",
       "    }\n",
       "\n",
       "    .dataframe thead th {\n",
       "        text-align: right;\n",
       "    }\n",
       "</style>\n",
       "<table border=\"1\" class=\"dataframe\">\n",
       "  <thead>\n",
       "    <tr style=\"text-align: right;\">\n",
       "      <th></th>\n",
       "      <th>dimension</th>\n",
       "      <th>dimension_ID</th>\n",
       "      <th>description</th>\n",
       "    </tr>\n",
       "  </thead>\n",
       "  <tbody>\n",
       "    <tr>\n",
       "      <th>0</th>\n",
       "      <td>FREQ</td>\n",
       "      <td>CL_FREQ</td>\n",
       "      <td>Frequency</td>\n",
       "    </tr>\n",
       "    <tr>\n",
       "      <th>1</th>\n",
       "      <td>MERCE_ATECO_2007</td>\n",
       "      <td>CL_ATECO_2007_MERCE</td>\n",
       "      <td>Commodity Nace 2007</td>\n",
       "    </tr>\n",
       "    <tr>\n",
       "      <th>2</th>\n",
       "      <td>PAESE_PARTNER</td>\n",
       "      <td>CL_ISO</td>\n",
       "      <td>Geopolitics</td>\n",
       "    </tr>\n",
       "    <tr>\n",
       "      <th>3</th>\n",
       "      <td>ITTER107</td>\n",
       "      <td>CL_ITTER107</td>\n",
       "      <td>Territory</td>\n",
       "    </tr>\n",
       "    <tr>\n",
       "      <th>4</th>\n",
       "      <td>TIPO_DATO</td>\n",
       "      <td>CL_TIPO_DATO12</td>\n",
       "      <td>Data type 12</td>\n",
       "    </tr>\n",
       "  </tbody>\n",
       "</table>\n",
       "</div>"
      ],
      "text/plain": [
       "          dimension         dimension_ID          description\n",
       "0              FREQ              CL_FREQ            Frequency\n",
       "1  MERCE_ATECO_2007  CL_ATECO_2007_MERCE  Commodity Nace 2007\n",
       "2     PAESE_PARTNER               CL_ISO          Geopolitics\n",
       "3          ITTER107          CL_ITTER107            Territory\n",
       "4         TIPO_DATO       CL_TIPO_DATO12         Data type 12"
      ]
     },
     "execution_count": 22,
     "metadata": {},
     "output_type": "execute_result"
    }
   ],
   "source": [
    "ds.dimensions_info()"
   ]
  },
  {
   "cell_type": "markdown",
   "metadata": {},
   "source": [
    "Now, each dimension can have a few possible values. `istatapi` provides a quick method to analyze these values and print their English descriptions. "
   ]
  },
  {
   "cell_type": "code",
   "execution_count": 23,
   "metadata": {},
   "outputs": [
    {
     "data": {
      "text/html": [
       "<div>\n",
       "<style scoped>\n",
       "    .dataframe tbody tr th:only-of-type {\n",
       "        vertical-align: middle;\n",
       "    }\n",
       "\n",
       "    .dataframe tbody tr th {\n",
       "        vertical-align: top;\n",
       "    }\n",
       "\n",
       "    .dataframe thead th {\n",
       "        text-align: right;\n",
       "    }\n",
       "</style>\n",
       "<table border=\"1\" class=\"dataframe\">\n",
       "  <thead>\n",
       "    <tr style=\"text-align: right;\">\n",
       "      <th></th>\n",
       "      <th>values_ids</th>\n",
       "      <th>values_description</th>\n",
       "    </tr>\n",
       "  </thead>\n",
       "  <tbody>\n",
       "    <tr>\n",
       "      <th>0</th>\n",
       "      <td>EV</td>\n",
       "      <td>export - value (euro)</td>\n",
       "    </tr>\n",
       "    <tr>\n",
       "      <th>1</th>\n",
       "      <td>TBV</td>\n",
       "      <td>trade balance - value (euro)</td>\n",
       "    </tr>\n",
       "    <tr>\n",
       "      <th>2</th>\n",
       "      <td>ISAV</td>\n",
       "      <td>import - seasonally adjusted value - world bas...</td>\n",
       "    </tr>\n",
       "    <tr>\n",
       "      <th>3</th>\n",
       "      <td>ESAV</td>\n",
       "      <td>export - seasonally adjusted value - world bas...</td>\n",
       "    </tr>\n",
       "    <tr>\n",
       "      <th>4</th>\n",
       "      <td>TBSAV</td>\n",
       "      <td>trade balance - seasonally adjusted value  -wo...</td>\n",
       "    </tr>\n",
       "    <tr>\n",
       "      <th>5</th>\n",
       "      <td>IV</td>\n",
       "      <td>import - value (euro)</td>\n",
       "    </tr>\n",
       "  </tbody>\n",
       "</table>\n",
       "</div>"
      ],
      "text/plain": [
       "  values_ids                                 values_description\n",
       "0         EV                              export - value (euro)\n",
       "1        TBV                       trade balance - value (euro)\n",
       "2       ISAV  import - seasonally adjusted value - world bas...\n",
       "3       ESAV  export - seasonally adjusted value - world bas...\n",
       "4      TBSAV  trade balance - seasonally adjusted value  -wo...\n",
       "5         IV                              import - value (euro)"
      ]
     },
     "execution_count": 23,
     "metadata": {},
     "output_type": "execute_result"
    }
   ],
   "source": [
    "dimension = \"TIPO_DATO\" #use \"dimension\" column from above\n",
    "ds.get_dimension_values(dimension)"
   ]
  },
  {
   "cell_type": "markdown",
   "metadata": {},
   "source": [
    "If we do not filter any of our variables, the data will just include all the possible values in the dataset. This could result in too much data that would slow our code and make it difficult to analyze. Thus, we need to filter our dataset. To do so, we can simply use the `values_ids` that we found using the function `get_dimension_values` in the cell above.\n",
    "\n",
    "**Note**: Make sure to pass the names of the dimensions in lower case letters as arguments of the `set_filter` function. If you want to filter for multiple values, simply pass them as lists."
   ]
  },
  {
   "cell_type": "code",
   "execution_count": 24,
   "metadata": {},
   "outputs": [],
   "source": [
    "freq = \"M\" #monthly frequency\n",
    "tipo_dato = [\"ISAV\", \"ESAV\"] #imports and exports seasonally adjusted data\n",
    "paese_partner = \"WORLD\" #trade with all countries\n",
    "\n",
    "ds.set_filters(freq = freq, tipo_dato = tipo_dato, paese_partner = paese_partner)"
   ]
  },
  {
   "cell_type": "markdown",
   "metadata": {},
   "source": [
    "Having set our filters, we can now finally retrieve the data by simply passing our `DataSet` instance to the function `get_data`. It will return a pandas DataFrame with all the data that we requested. The data will be already sorted by datetime"
   ]
  },
  {
   "cell_type": "code",
   "execution_count": 25,
   "metadata": {},
   "outputs": [
    {
     "data": {
      "text/html": [
       "<div>\n",
       "<style scoped>\n",
       "    .dataframe tbody tr th:only-of-type {\n",
       "        vertical-align: middle;\n",
       "    }\n",
       "\n",
       "    .dataframe tbody tr th {\n",
       "        vertical-align: top;\n",
       "    }\n",
       "\n",
       "    .dataframe thead th {\n",
       "        text-align: right;\n",
       "    }\n",
       "</style>\n",
       "<table border=\"1\" class=\"dataframe\">\n",
       "  <thead>\n",
       "    <tr style=\"text-align: right;\">\n",
       "      <th></th>\n",
       "      <th>DATAFLOW</th>\n",
       "      <th>FREQ</th>\n",
       "      <th>MERCE_ATECO_2007</th>\n",
       "      <th>PAESE_PARTNER</th>\n",
       "      <th>ITTER107</th>\n",
       "      <th>TIPO_DATO</th>\n",
       "      <th>TIME_PERIOD</th>\n",
       "      <th>OBS_VALUE</th>\n",
       "      <th>BREAK</th>\n",
       "      <th>CONF_STATUS</th>\n",
       "      <th>OBS_PRE_BREAK</th>\n",
       "      <th>OBS_STATUS</th>\n",
       "      <th>BASE_PER</th>\n",
       "      <th>UNIT_MEAS</th>\n",
       "      <th>UNIT_MULT</th>\n",
       "      <th>METADATA_EN</th>\n",
       "      <th>METADATA_IT</th>\n",
       "    </tr>\n",
       "  </thead>\n",
       "  <tbody>\n",
       "    <tr>\n",
       "      <th>0</th>\n",
       "      <td>IT1:139_176(1.0)</td>\n",
       "      <td>M</td>\n",
       "      <td>10</td>\n",
       "      <td>WORLD</td>\n",
       "      <td>ITTOT</td>\n",
       "      <td>ESAV</td>\n",
       "      <td>1993-01-01</td>\n",
       "      <td>10775</td>\n",
       "      <td>NaN</td>\n",
       "      <td>NaN</td>\n",
       "      <td>NaN</td>\n",
       "      <td>NaN</td>\n",
       "      <td>NaN</td>\n",
       "      <td>NaN</td>\n",
       "      <td>NaN</td>\n",
       "      <td>NaN</td>\n",
       "      <td>NaN</td>\n",
       "    </tr>\n",
       "    <tr>\n",
       "      <th>360</th>\n",
       "      <td>IT1:139_176(1.0)</td>\n",
       "      <td>M</td>\n",
       "      <td>10</td>\n",
       "      <td>WORLD</td>\n",
       "      <td>ITTOT</td>\n",
       "      <td>ISAV</td>\n",
       "      <td>1993-01-01</td>\n",
       "      <td>9229</td>\n",
       "      <td>NaN</td>\n",
       "      <td>NaN</td>\n",
       "      <td>NaN</td>\n",
       "      <td>NaN</td>\n",
       "      <td>NaN</td>\n",
       "      <td>NaN</td>\n",
       "      <td>NaN</td>\n",
       "      <td>NaN</td>\n",
       "      <td>NaN</td>\n",
       "    </tr>\n",
       "    <tr>\n",
       "      <th>364</th>\n",
       "      <td>IT1:139_176(1.0)</td>\n",
       "      <td>M</td>\n",
       "      <td>10</td>\n",
       "      <td>WORLD</td>\n",
       "      <td>ITTOT</td>\n",
       "      <td>ISAV</td>\n",
       "      <td>1993-02-01</td>\n",
       "      <td>10014</td>\n",
       "      <td>NaN</td>\n",
       "      <td>NaN</td>\n",
       "      <td>NaN</td>\n",
       "      <td>NaN</td>\n",
       "      <td>NaN</td>\n",
       "      <td>NaN</td>\n",
       "      <td>NaN</td>\n",
       "      <td>NaN</td>\n",
       "      <td>NaN</td>\n",
       "    </tr>\n",
       "    <tr>\n",
       "      <th>4</th>\n",
       "      <td>IT1:139_176(1.0)</td>\n",
       "      <td>M</td>\n",
       "      <td>10</td>\n",
       "      <td>WORLD</td>\n",
       "      <td>ITTOT</td>\n",
       "      <td>ESAV</td>\n",
       "      <td>1993-02-01</td>\n",
       "      <td>10692</td>\n",
       "      <td>NaN</td>\n",
       "      <td>NaN</td>\n",
       "      <td>NaN</td>\n",
       "      <td>NaN</td>\n",
       "      <td>NaN</td>\n",
       "      <td>NaN</td>\n",
       "      <td>NaN</td>\n",
       "      <td>NaN</td>\n",
       "      <td>NaN</td>\n",
       "    </tr>\n",
       "    <tr>\n",
       "      <th>365</th>\n",
       "      <td>IT1:139_176(1.0)</td>\n",
       "      <td>M</td>\n",
       "      <td>10</td>\n",
       "      <td>WORLD</td>\n",
       "      <td>ITTOT</td>\n",
       "      <td>ISAV</td>\n",
       "      <td>1993-03-01</td>\n",
       "      <td>9951</td>\n",
       "      <td>NaN</td>\n",
       "      <td>NaN</td>\n",
       "      <td>NaN</td>\n",
       "      <td>NaN</td>\n",
       "      <td>NaN</td>\n",
       "      <td>NaN</td>\n",
       "      <td>NaN</td>\n",
       "      <td>NaN</td>\n",
       "      <td>NaN</td>\n",
       "    </tr>\n",
       "  </tbody>\n",
       "</table>\n",
       "</div>"
      ],
      "text/plain": [
       "             DATAFLOW FREQ  MERCE_ATECO_2007 PAESE_PARTNER ITTER107 TIPO_DATO  \\\n",
       "0    IT1:139_176(1.0)    M                10         WORLD    ITTOT      ESAV   \n",
       "360  IT1:139_176(1.0)    M                10         WORLD    ITTOT      ISAV   \n",
       "364  IT1:139_176(1.0)    M                10         WORLD    ITTOT      ISAV   \n",
       "4    IT1:139_176(1.0)    M                10         WORLD    ITTOT      ESAV   \n",
       "365  IT1:139_176(1.0)    M                10         WORLD    ITTOT      ISAV   \n",
       "\n",
       "    TIME_PERIOD  OBS_VALUE  BREAK  CONF_STATUS  OBS_PRE_BREAK  OBS_STATUS  \\\n",
       "0    1993-01-01      10775    NaN          NaN            NaN         NaN   \n",
       "360  1993-01-01       9229    NaN          NaN            NaN         NaN   \n",
       "364  1993-02-01      10014    NaN          NaN            NaN         NaN   \n",
       "4    1993-02-01      10692    NaN          NaN            NaN         NaN   \n",
       "365  1993-03-01       9951    NaN          NaN            NaN         NaN   \n",
       "\n",
       "     BASE_PER  UNIT_MEAS  UNIT_MULT  METADATA_EN  METADATA_IT  \n",
       "0         NaN        NaN        NaN          NaN          NaN  \n",
       "360       NaN        NaN        NaN          NaN          NaN  \n",
       "364       NaN        NaN        NaN          NaN          NaN  \n",
       "4         NaN        NaN        NaN          NaN          NaN  \n",
       "365       NaN        NaN        NaN          NaN          NaN  "
      ]
     },
     "execution_count": 25,
     "metadata": {},
     "output_type": "execute_result"
    }
   ],
   "source": [
    "trade_df = get_data(ds)\n",
    "trade_df.head()"
   ]
  },
  {
   "cell_type": "code",
   "execution_count": 26,
   "metadata": {},
   "outputs": [],
   "source": [
    "# calculate moving averages for the plot\n",
    "trade_df[\"MA_3\"] = trade_df.groupby(\"TIPO_DATO\")[\"OBS_VALUE\"].transform(\n",
    "    lambda x: x.rolling(window=3).mean()\n",
    ")\n",
    "\n",
    "#replace the \"TIPO_DATO\" column values with more meaningful labels\n",
    "trade_df[\"TIPO_DATO\"] = trade_df[\"TIPO_DATO\"].replace(\n",
    "    {\"ISAV\": \"Imports\", \"ESAV\": \"Exports\"}\n",
    ")"
   ]
  },
  {
   "cell_type": "code",
   "execution_count": 27,
   "metadata": {},
   "outputs": [
    {
     "data": {
      "image/png": "[encoded data removed]",
      "text/plain": [
       "<Figure size 1600x500 with 1 Axes>"
      ]
     },
     "metadata": {},
     "output_type": "display_data"
    }
   ],
   "source": [
    "# Plot the data\n",
    "after_2013 = trade_df[\"TIME_PERIOD\"] >= \"2013\"\n",
    "is_ESAV = trade_df[\"TIPO_DATO\"] == \"Exports\"\n",
    "is_ISAV = trade_df[\"TIPO_DATO\"] == \"Imports\"\n",
    "\n",
    "exports = trade_df[is_ESAV & after_2013].rename(columns={\"OBS_VALUE\": \"Exports\", \"MA_3\": \"MA_3_Export\"})\n",
    "imports = trade_df[is_ISAV & after_2013].rename(columns={\"OBS_VALUE\": \"Imports\", \"MA_3\": \"MA_3_Import\"})\n",
    "\n",
    "plt.plot(\n",
    "    \"TIME_PERIOD\",\n",
    "    \"OBS_VALUE\",\n",
    "    data=exports,\n",
    "    marker=\"\",\n",
    "    linewidth=1\n",
    ")\n",
    "plt.plot(\n",
    "    \"TIME_PERIOD\",\n",
    "    \"OBS_VALUE\",\n",
    "    data=imports,\n",
    "    marker=\"\",\n",
    "    linewidth=1\n",
    ")\n",
    "plt.plot(\n",
    "    \"TIME_PERIOD\",\n",
    "    \"MA_3\",\n",
    "    data=exports,\n",
    "    marker=\"\",\n",
    "    linewidth=0.5\n",
    ")\n",
    "plt.plot(\n",
    "    \"TIME_PERIOD\",\n",
    "    \"MA_3\",\n",
    "    data=imports,\n",
    "    marker=\"\",\n",
    "    linewidth=0.5\n",
    ")\n",
    "\n",
    "plt.axhline(y=100, color=\"black\", linewidth=0.5, linestyle=\"-\")\n",
    "plt.legend()\n",
    "plt.rcParams[\"figure.figsize\"] = (15, 4)"
   ]
  },
  {
   "cell_type": "markdown",
   "metadata": {},
   "source": [
    "And That's it! With a few lines of code we were able to neatly reproduce the graph!"
   ]
  }
 ],
 "metadata": {
  "kernelspec": {
   "display_name": "base",
   "language": "python",
   "name": "python3"
  },
  "language_info": {
   "codemirror_mode": {
    "name": "ipython",
    "version": 3
   },
   "file_extension": ".py",
   "mimetype": "text/x-python",
   "name": "python",
   "nbconvert_exporter": "python",
   "pygments_lexer": "ipython3",
   "version": "3.8.16"
  },
  "vscode": {
   "interpreter": {
    "hash": "1312b6235ef8fda86284569fa4b7b8d2a983471148651d2aebeaa737f1ab052d"
   }
  }
 },
 "nbformat": 4,
 "nbformat_minor": 4
}
