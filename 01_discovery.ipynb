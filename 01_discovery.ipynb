{
 "cells": [
  {
   "cell_type": "code",
   "execution_count": null,
   "metadata": {},
   "outputs": [
    {
     "name": "stdout",
     "output_type": "stream",
     "text": [
      "The autoreload extension is already loaded. To reload it, use:\n",
      "  %reload_ext autoreload\n"
     ]
    }
   ],
   "source": [
    "#hide\n",
    "%load_ext autoreload\n",
    "%autoreload 2"
   ]
  },
  {
   "cell_type": "code",
   "execution_count": null,
   "metadata": {},
   "outputs": [
    {
     "name": "stdout",
     "output_type": "stream",
     "text": [
      "Cells will be exported to istatapi.discovery,\n",
      "unless a different module is specified after an export flag: `%nbdev_export special.module`\n"
     ]
    }
   ],
   "source": [
    "from nbdev import *\n",
    "%nbdev_default_export discovery"
   ]
  },
  {
   "cell_type": "code",
   "execution_count": null,
   "metadata": {},
   "outputs": [],
   "source": [
    "%nbdev_export\n",
    "from istatapi.base import ISTAT\n",
    "from istatapi.utils import make_tree, strip_ns\n",
    "import pandas as pd"
   ]
  },
  {
   "cell_type": "markdown",
   "metadata": {},
   "source": [
    "# Discovery\n",
    "\n",
    "> Functions used to discover and explore the data exposed by ISTAT webservice"
   ]
  },
  {
   "cell_type": "markdown",
   "metadata": {},
   "source": [
    "This module implements functions to discover the data exposed by ISTAT. To do so, `istatapi` make metadata requests to the API endpoints. The `Discovery` module provides useful methods to parse and analyze API responses. It makes use of the library `pandas` and returns data in the `DataFrame` format, making it convenient for interactive and exploratory analysis in Jupyter Notebooks.\n",
    "\n",
    "Two main classes are implemented in the `Discovery` module: `DataFlows` and `DataStructure`. They both collect methods to explore ISTAT data, their usage and methods are documented below."
   ]
  },
  {
   "cell_type": "markdown",
   "metadata": {},
   "source": [
    "## Explore available datasets\n",
    "\n",
    "In order to understand what data we can retrieve from ISTAT database, the _Data Discovery_ service allows us to look into the list of datasets provided by ISTAT. To do so, we can set the ```resource``` Path parameter to be equal to ```dataflow```. The API text response will then be parsed with Python to display the full list of dataflows available for exploration. These procedures are wrapped in Python and handled by the `DataFlow` class."
   ]
  },
  {
   "cell_type": "code",
   "execution_count": null,
   "metadata": {},
   "outputs": [],
   "source": [
    "%nbdev_export\n",
    "class DataFlows(ISTAT):\n",
    "    \"\"\"Base class to explore available Dataflows\"\"\"\n",
    "    def __init__(self):\n",
    "        super().__init__()\n",
    "        self.resource = \"dataflow\"\n",
    "        self.available = self.all_available()\n",
    "\n",
    "    def parse_dataflows(self, response):\n",
    "        \"\"\"parse the `response` containing all the available datasets and return a list of dataflows.\"\"\"\n",
    "        tree = make_tree(response)\n",
    "        strip_ns(tree)\n",
    "        root = tree.root\n",
    "        \n",
    "        dataflows_l = []\n",
    "        for dataflow in root.iter('Dataflow'):\n",
    "            id = dataflow.get('id')\n",
    "            version = dataflow.get('version')\n",
    "            structure_id = [ref.get('id') for ref in dataflow.iter('Ref')][0]\n",
    "\n",
    "            #iter over names and get the descriptions \n",
    "            for name in dataflow.findall('Name'):\n",
    "                lang = name.get(\"{http://www.w3.org/XML/1998/namespace}lang\")\n",
    "                if lang == 'en':\n",
    "                    description_en = name.text\n",
    "                #if lang == 'it':\n",
    "                    #description_it = name.text\n",
    "\n",
    "            dataflow_dict = {\n",
    "            \"df_id\": id,\n",
    "            \"version\": version,\n",
    "            \"description\": description_en,\n",
    "            #\"description_it\": description_it,\n",
    "            \"df_structure_id\": structure_id, \n",
    "            }\n",
    "\n",
    "            dataflows_l.append(dataflow_dict)\n",
    "            \n",
    "        return dataflows_l\n",
    "        \n",
    "    def all_available(self, dataframe = True):\n",
    "        \"\"\"Return all available dataflows\"\"\"\n",
    "        path = 'dataflow/IT1'\n",
    "        response = self._request(path = path)\n",
    "        dataflows = self.parse_dataflows(response)\n",
    "        \n",
    "        if dataframe == True: dataflows = pd.DataFrame(dataflows)\n",
    "            \n",
    "        return dataflows  \n",
    "    \n",
    "    def search(self, keyword):\n",
    "        \"\"\"Search available dataflows that contain `keyword`. Return these dataflows in a DataFrame\"\"\"\n",
    "        dataflows = self.available[self.available['description'].str.contains(keyword, case=False)]\n",
    "        \n",
    "        return dataflows"
   ]
  },
  {
   "cell_type": "markdown",
   "metadata": {},
   "source": [
    "The simplest way to get a full list of the dataflows provided by ISTAT is to access the DataFrame in `DataFlows.available`, which calls the method `DataFlows.all_available()` and returns a list of all the explorable dataflows, together with their IDs and descriptions."
   ]
  },
  {
   "cell_type": "code",
   "execution_count": null,
   "metadata": {},
   "outputs": [
    {
     "data": {
      "text/html": [
       "<div>\n",
       "<style scoped>\n",
       "    .dataframe tbody tr th:only-of-type {\n",
       "        vertical-align: middle;\n",
       "    }\n",
       "\n",
       "    .dataframe tbody tr th {\n",
       "        vertical-align: top;\n",
       "    }\n",
       "\n",
       "    .dataframe thead th {\n",
       "        text-align: right;\n",
       "    }\n",
       "</style>\n",
       "<table border=\"1\" class=\"dataframe\">\n",
       "  <thead>\n",
       "    <tr style=\"text-align: right;\">\n",
       "      <th></th>\n",
       "      <th>df_id</th>\n",
       "      <th>version</th>\n",
       "      <th>description</th>\n",
       "      <th>df_structure_id</th>\n",
       "    </tr>\n",
       "  </thead>\n",
       "  <tbody>\n",
       "    <tr>\n",
       "      <th>0</th>\n",
       "      <td>101_1015</td>\n",
       "      <td>1.2</td>\n",
       "      <td>Crops</td>\n",
       "      <td>DCSP_COLTIVAZIONI</td>\n",
       "    </tr>\n",
       "    <tr>\n",
       "      <th>1</th>\n",
       "      <td>101_1030</td>\n",
       "      <td>1.0</td>\n",
       "      <td>PDO, PGI and TSG quality products</td>\n",
       "      <td>DCSP_DOPIGP</td>\n",
       "    </tr>\n",
       "    <tr>\n",
       "      <th>2</th>\n",
       "      <td>101_1033</td>\n",
       "      <td>1.0</td>\n",
       "      <td>slaughtering</td>\n",
       "      <td>DCSP_MACELLAZIONI</td>\n",
       "    </tr>\n",
       "    <tr>\n",
       "      <th>3</th>\n",
       "      <td>101_1039</td>\n",
       "      <td>1.0</td>\n",
       "      <td>Agritourism - municipalities</td>\n",
       "      <td>DCSP_AGRITURISMO_COM</td>\n",
       "    </tr>\n",
       "    <tr>\n",
       "      <th>4</th>\n",
       "      <td>101_1077</td>\n",
       "      <td>1.0</td>\n",
       "      <td>PDO, PGI and TSG products:  operators - munici...</td>\n",
       "      <td>DCSP_DOPIGP_COM</td>\n",
       "    </tr>\n",
       "  </tbody>\n",
       "</table>\n",
       "</div>"
      ],
      "text/plain": [
       "      df_id version                                        description  \\\n",
       "0  101_1015     1.2                                              Crops   \n",
       "1  101_1030     1.0                  PDO, PGI and TSG quality products   \n",
       "2  101_1033     1.0                                       slaughtering   \n",
       "3  101_1039     1.0                       Agritourism - municipalities   \n",
       "4  101_1077     1.0  PDO, PGI and TSG products:  operators - munici...   \n",
       "\n",
       "        df_structure_id  \n",
       "0     DCSP_COLTIVAZIONI  \n",
       "1           DCSP_DOPIGP  \n",
       "2     DCSP_MACELLAZIONI  \n",
       "3  DCSP_AGRITURISMO_COM  \n",
       "4       DCSP_DOPIGP_COM  "
      ]
     },
     "execution_count": null,
     "metadata": {},
     "output_type": "execute_result"
    }
   ],
   "source": [
    "datasets = DataFlows()\n",
    "datasets.available.head()"
   ]
  },
  {
   "cell_type": "code",
   "execution_count": null,
   "metadata": {},
   "outputs": [
    {
     "data": {
      "text/markdown": [
       "<h4 id=\"DataFlows.search\" class=\"doc_header\"><code>DataFlows.search</code><a href=\"__main__.py#L51\" class=\"source_link\" style=\"float:right\">[source]</a></h4>\n",
       "\n",
       "> <code>DataFlows.search</code>(**`keyword`**)\n",
       "\n",
       "Search available dataflows that contain `keyword`. Return these dataflows in a DataFrame"
      ],
      "text/plain": [
       "<IPython.core.display.Markdown object>"
      ]
     },
     "metadata": {},
     "output_type": "display_data"
    }
   ],
   "source": [
    "show_doc(DataFlows.search)"
   ]
  },
  {
   "cell_type": "markdown",
   "metadata": {},
   "source": [
    "This method looks for `keyword` inside all datasets descriptions. By default, the `keyword` needs to be an english word."
   ]
  },
  {
   "cell_type": "code",
   "execution_count": null,
   "metadata": {},
   "outputs": [
    {
     "data": {
      "text/html": [
       "<div>\n",
       "<style scoped>\n",
       "    .dataframe tbody tr th:only-of-type {\n",
       "        vertical-align: middle;\n",
       "    }\n",
       "\n",
       "    .dataframe tbody tr th {\n",
       "        vertical-align: top;\n",
       "    }\n",
       "\n",
       "    .dataframe thead th {\n",
       "        text-align: right;\n",
       "    }\n",
       "</style>\n",
       "<table border=\"1\" class=\"dataframe\">\n",
       "  <thead>\n",
       "    <tr style=\"text-align: right;\">\n",
       "      <th></th>\n",
       "      <th>df_id</th>\n",
       "      <th>version</th>\n",
       "      <th>description</th>\n",
       "      <th>df_structure_id</th>\n",
       "    </tr>\n",
       "  </thead>\n",
       "  <tbody>\n",
       "    <tr>\n",
       "      <th>79</th>\n",
       "      <td>151_874</td>\n",
       "      <td>1.0</td>\n",
       "      <td>Unemployment rate  - monthly data</td>\n",
       "      <td>DCCV_TAXDISOCCUMENS1</td>\n",
       "    </tr>\n",
       "    <tr>\n",
       "      <th>81</th>\n",
       "      <td>151_884</td>\n",
       "      <td>1.0</td>\n",
       "      <td>Unemployment rate - quarterly seasonally adjus...</td>\n",
       "      <td>DCCV_TAXDISOCCUDE1</td>\n",
       "    </tr>\n",
       "    <tr>\n",
       "      <th>83</th>\n",
       "      <td>151_914</td>\n",
       "      <td>1.1</td>\n",
       "      <td>Unemployment  rate</td>\n",
       "      <td>DCCV_TAXDISOCCU1</td>\n",
       "    </tr>\n",
       "    <tr>\n",
       "      <th>84</th>\n",
       "      <td>151_929</td>\n",
       "      <td>1.1</td>\n",
       "      <td>Unemployment</td>\n",
       "      <td>DCCV_DISOCCUPT1</td>\n",
       "    </tr>\n",
       "    <tr>\n",
       "      <th>159</th>\n",
       "      <td>172_926</td>\n",
       "      <td>1.1</td>\n",
       "      <td>Supplementary  indicators to unemployment</td>\n",
       "      <td>DCCV_COMPL1</td>\n",
       "    </tr>\n",
       "  </tbody>\n",
       "</table>\n",
       "</div>"
      ],
      "text/plain": [
       "       df_id version                                        description  \\\n",
       "79   151_874     1.0                  Unemployment rate  - monthly data   \n",
       "81   151_884     1.0  Unemployment rate - quarterly seasonally adjus...   \n",
       "83   151_914     1.1                                 Unemployment  rate   \n",
       "84   151_929     1.1                                       Unemployment   \n",
       "159  172_926     1.1          Supplementary  indicators to unemployment   \n",
       "\n",
       "          df_structure_id  \n",
       "79   DCCV_TAXDISOCCUMENS1  \n",
       "81     DCCV_TAXDISOCCUDE1  \n",
       "83       DCCV_TAXDISOCCU1  \n",
       "84        DCCV_DISOCCUPT1  \n",
       "159           DCCV_COMPL1  "
      ]
     },
     "execution_count": null,
     "metadata": {},
     "output_type": "execute_result"
    }
   ],
   "source": [
    "datasets.search('Unemployment')"
   ]
  },
  {
   "cell_type": "markdown",
   "metadata": {},
   "source": [
    "## Data Structures and Information about available Datasets"
   ]
  },
  {
   "cell_type": "markdown",
   "metadata": {},
   "source": [
    "The API provides a lot of information on its datasets. The `DataStructure` class implements methods to retrieve this info. The followings are the main functionalities implemented by the class:\n",
    "\n",
    "1. Find The ID of the ```dataflow``` (dataset) containing the data that needs to be returned\n",
    "2. Display The ```datastructure``` of the ```dataflow``` we want to query (the dimensions of our ```dataflow```). Dimension is another name for a column or a variable.\n",
    "3. Explain the names of the dimensions.\n",
    "4. display the possible values of the dimensions."
   ]
  },
  {
   "cell_type": "code",
   "execution_count": null,
   "metadata": {},
   "outputs": [],
   "source": [
    "%nbdev_export\n",
    "class DataStructure(ISTAT):\n",
    "        \"\"\"Class that implements methods to retrieve informations about a Dataset\"\"\"\n",
    "        def __init__(self):\n",
    "            super().__init__()\n",
    "            self.resource = \"datastructure\"\n",
    "            self.available = DataFlows().available #df with all the available dataflows\n",
    "            #TODO: Initiate the class with a specific dataset. Retrieve informations only on it (maybe use a dataset loader)\n",
    "            \n",
    "        def get_df_structure_id(self, **kwargs):\n",
    "            \"\"\"Return the `df_structure_id` of a dataflow from its `df_id` or `df_description`\"\"\"\n",
    "            valid_args = ['df_description', 'df_id']\n",
    "        \n",
    "            arg = [*kwargs][0]\n",
    "            arg_value = [x for x in kwargs.values()][0]\n",
    "            \n",
    "            #arguments errors\n",
    "            if arg not in valid_args: raise ValueError(f\"{arg} is not a valid argument. Use one of: {', '.join(valid_args)}\")\n",
    "            #elif lang not in ['en', 'it']: raise ValueError(\"'lang' must be 'en' (English) or 'it' (Italian)\")\n",
    "            \n",
    "            if arg == \"df_description\": mask = self.available[\"description\"] == arg_value\n",
    "            else: mask = self.available[arg] == arg_value\n",
    "                \n",
    "            df_structure_id = self.available[mask].df_structure_id.values[0]\n",
    "            return df_structure_id\n",
    "        \n",
    "        def get_df_id(self, **kwargs):\n",
    "            \"\"\"Return the `df_id` of a dataflow from its `df_description` or `df_structure_id`\"\"\"\n",
    "            valid_args = ['df_description', 'df_structure_id']\n",
    "            \n",
    "            arg = [*kwargs][0]\n",
    "            arg_value = [x for x in kwargs.values()][0]  \n",
    "            \n",
    "            #arguments errors\n",
    "            if arg not in valid_args: raise ValueError(f\"{arg} is not a valid argument. Use one of: {', '.join(valid_args)}\")\n",
    "            #elif lang not in ['en', 'it']: raise ValueError(\"'lang' must be 'en' (English) or 'it' (Italian)\")\n",
    "            \n",
    "            if arg == \"df_description\" : mask = self.available[\"description\"] == arg_value   \n",
    "            else : mask = self.available[arg] == arg_value\n",
    "                \n",
    "            df_id = self.available[mask].df_id.values[0]\n",
    "            return df_id\n",
    "        \n",
    "        def get_df_description(self, lang = 'en', **kwargs):\n",
    "            \"\"\"Return the `df_description` of a dataflow from its `df_id` or `df_structure_id`\"\"\"\n",
    "            valid_args = ['df_id', 'df_structure_id']\n",
    "            \n",
    "            arg = [*kwargs][0]\n",
    "            arg_value = [x for x in kwargs.values()][0]  \n",
    "            \n",
    "            #arguments errors\n",
    "            if arg not in valid_args: raise ValueError(f\"{arg} is not a valid argument. Use one of: {', '.join(valid_args)}\")\n",
    "            #elif lang not in ['en', 'it']: raise ValueError(\"'lang' must be 'en' (English) or 'it' (Italian)\")\n",
    "            \n",
    "            mask = self.available[arg] == arg_value\n",
    "            df_description = self.available[mask].description.values[0]\n",
    "            return df_description      \n",
    "        \n",
    "        def parse_dimensions(self, response):\n",
    "            \"\"\"Parse the `response` containing a dataflow's dimensions and return them in a list\"\"\"\n",
    "            tree = make_tree(response)\n",
    "            strip_ns(tree)\n",
    "            root = tree.root\n",
    "            print(root)\n",
    "            \n",
    "            dimensions_l = []\n",
    "            for dimension in root.iter('Dimension'):\n",
    "                dimension_name = dimension.attrib['id']\n",
    "                \n",
    "                dimension_id = [enumeration.find('Ref').get('id') for enumeration in dimension.iter('Enumeration')][0]\n",
    "                \n",
    "                dimension_dict = {'dimension' : dimension_name, \n",
    "                                  'dimension_ID' : dimension_id}\n",
    "                \n",
    "                dimensions_l.append(dimension_dict)\n",
    "            \n",
    "            return(dimensions_l)\n",
    "            \n",
    "        def dimensions_description(self, dimensions):\n",
    "            \"\"\"Return a dataframe with the descriptions of `dimensions`\"\"\"\n",
    "            resource = \"codelist\"\n",
    "            dimensions_l = dimensions.dimension_ID.tolist()\n",
    "            descriptions_l = []\n",
    "            \n",
    "            for dimension_id in dimensions_l:\n",
    "                path_parts = [resource, self.agencyID, dimension_id]\n",
    "                path = \"/\".join(path_parts)\n",
    "                response = self._request(path = path)\n",
    "                tree = make_tree(response)\n",
    "                strip_ns(tree)\n",
    "                root = tree.root\n",
    "                \n",
    "                description = [x for x in root.iter('Codelist')][0]\n",
    "                #description_it = description.findall('Name')[0].text\n",
    "                description = description.findall('Name')[1].text\n",
    "\n",
    "                description_dict = {'dimension_ID' : dimension_id, \n",
    "                                   'description' : description}\n",
    "                descriptions_l.append(description_dict)\n",
    "            \n",
    "            dimensions_descriptions = pd.DataFrame(descriptions_l)\n",
    "            \n",
    "            return dimensions_descriptions      \n",
    "        \n",
    "        def get_dimensions(self, dataframe = True, **kwargs):\n",
    "            \"\"\"Return a Dataframe containing the dimensions (and their descriptions) of a specific dataflow.\"\"\"\n",
    "            valid_args = ['df_id', 'df_structure_id', 'df_description']\n",
    "            \n",
    "            arg = [*kwargs][0]\n",
    "            arg_value = [x for x in kwargs.values()][0]\n",
    "            \n",
    "            #arguments errors\n",
    "            if arg not in valid_args: raise ValueError(f\"{arg} is not a valid argument. Use one of: {', '.join(valid_args)}\")\n",
    "                \n",
    "            if arg != 'df_structure_id': df_structure_id = self.get_df_structure_id(**{arg : arg_value})\n",
    "            else: df_structure_id = arg_value\n",
    "            \n",
    "            path_parts = [self.resource, self.agencyID, df_structure_id]\n",
    "            path = \"/\".join(path_parts)\n",
    "            response = self._request(path = path)  \n",
    "            dimensions = self.parse_dimensions(response)\n",
    "        \n",
    "            if dataframe == True: dimensions = pd.DataFrame(dimensions)\n",
    "            dimensions_description = self.dimensions_description(dimensions)\n",
    "            dimensions = dimensions.merge(dimensions_description, on='dimension_ID')\n",
    "            \n",
    "            return dimensions \n",
    "        \n",
    "        def get_dimension_values(self, dimension_ID, dataframe = True):\n",
    "            \"\"\"Return the possible values of a dimension\"\"\"\n",
    "            resource = \"codelist\"\n",
    "            path_parts = [resource, self.agencyID, dimension_ID]\n",
    "            path = \"/\".join(path_parts)\n",
    "            response = self._request(path = path)\n",
    "            tree = make_tree(response)\n",
    "            strip_ns(tree)\n",
    "            root = tree.root\n",
    "            \n",
    "            values = []\n",
    "            for value in root.iter('Code'):\n",
    "                value_id = value.get('id')\n",
    "                #value_it = value.findall('Name')[0].text\n",
    "                value = value.findall('Name')[1].text\n",
    "                \n",
    "                value_dict = {'value_ID' : value_id, \n",
    "                           'description' : value}\n",
    "        \n",
    "                values.append(value_dict)\n",
    "            \n",
    "            if dataframe == True : values = pd.DataFrame(values)\n",
    "            return values          \n",
    "                      "
   ]
  },
  {
   "cell_type": "code",
   "execution_count": null,
   "metadata": {},
   "outputs": [
    {
     "data": {
      "text/markdown": [
       "<h4 id=\"DataStructure.get_df_structure_id\" class=\"doc_header\"><code>DataStructure.get_df_structure_id</code><a href=\"__main__.py#L10\" class=\"source_link\" style=\"float:right\">[source]</a></h4>\n",
       "\n",
       "> <code>DataStructure.get_df_structure_id</code>(**\\*\\*`kwargs`**)\n",
       "\n",
       "Return the `df_structure_id` of a dataflow from its `df_id` or `df_description`"
      ],
      "text/plain": [
       "<IPython.core.display.Markdown object>"
      ]
     },
     "metadata": {},
     "output_type": "display_data"
    }
   ],
   "source": [
    "show_doc(DataStructure.get_df_structure_id)"
   ]
  },
  {
   "cell_type": "code",
   "execution_count": null,
   "metadata": {},
   "outputs": [
    {
     "data": {
      "text/plain": [
       "'DCCV_TAXDISOCCU1'"
      ]
     },
     "execution_count": null,
     "metadata": {},
     "output_type": "execute_result"
    }
   ],
   "source": [
    "structure = DataStructure()\n",
    "#structure.get_df_structure_id(df_description = \"Unemployment  rate\") == structure.get_df_structure_id(df_id = \"151_914\")\n",
    "structure.get_df_structure_id(df_description = \"Unemployment  rate\")"
   ]
  },
  {
   "cell_type": "code",
   "execution_count": null,
   "metadata": {},
   "outputs": [
    {
     "data": {
      "text/markdown": [
       "<h4 id=\"DataStructure.get_df_id\" class=\"doc_header\"><code>DataStructure.get_df_id</code><a href=\"__main__.py#L27\" class=\"source_link\" style=\"float:right\">[source]</a></h4>\n",
       "\n",
       "> <code>DataStructure.get_df_id</code>(**\\*\\*`kwargs`**)\n",
       "\n",
       "Return the `df_id` of a dataflow from its `df_description` or `df_structure_id`"
      ],
      "text/plain": [
       "<IPython.core.display.Markdown object>"
      ]
     },
     "metadata": {},
     "output_type": "display_data"
    }
   ],
   "source": [
    "show_doc(DataStructure.get_df_id)"
   ]
  },
  {
   "cell_type": "code",
   "execution_count": null,
   "metadata": {},
   "outputs": [
    {
     "data": {
      "text/plain": [
       "'151_914'"
      ]
     },
     "execution_count": null,
     "metadata": {},
     "output_type": "execute_result"
    }
   ],
   "source": [
    "structure.get_df_id(df_description = \"Unemployment  rate\")"
   ]
  },
  {
   "cell_type": "code",
   "execution_count": null,
   "metadata": {},
   "outputs": [
    {
     "data": {
      "text/markdown": [
       "<h4 id=\"DataStructure.get_df_description\" class=\"doc_header\"><code>DataStructure.get_df_description</code><a href=\"__main__.py#L44\" class=\"source_link\" style=\"float:right\">[source]</a></h4>\n",
       "\n",
       "> <code>DataStructure.get_df_description</code>(**`lang`**=*`'en'`*, **\\*\\*`kwargs`**)\n",
       "\n",
       "Return the `df_description` of a dataflow from its `df_id` or `df_structure_id`"
      ],
      "text/plain": [
       "<IPython.core.display.Markdown object>"
      ]
     },
     "metadata": {},
     "output_type": "display_data"
    }
   ],
   "source": [
    "show_doc(DataStructure.get_df_description)"
   ]
  },
  {
   "cell_type": "code",
   "execution_count": null,
   "metadata": {},
   "outputs": [
    {
     "data": {
      "text/plain": [
       "'Unemployment  rate'"
      ]
     },
     "execution_count": null,
     "metadata": {},
     "output_type": "execute_result"
    }
   ],
   "source": [
    "structure.get_df_description(df_id = '151_914')"
   ]
  },
  {
   "cell_type": "code",
   "execution_count": null,
   "metadata": {},
   "outputs": [
    {
     "data": {
      "text/markdown": [
       "<h4 id=\"DataStructure.get_dimensions\" class=\"doc_header\"><code>DataStructure.get_dimensions</code><a href=\"__main__.py#L105\" class=\"source_link\" style=\"float:right\">[source]</a></h4>\n",
       "\n",
       "> <code>DataStructure.get_dimensions</code>(**`dataframe`**=*`True`*, **\\*\\*`kwargs`**)\n",
       "\n",
       "Return a Dataframe containing the dimensions (and their descriptions) of a specific dataflow."
      ],
      "text/plain": [
       "<IPython.core.display.Markdown object>"
      ]
     },
     "metadata": {},
     "output_type": "display_data"
    }
   ],
   "source": [
    "show_doc(DataStructure.get_dimensions)"
   ]
  },
  {
   "cell_type": "markdown",
   "metadata": {},
   "source": [
    "The method takes `df_id`, `df_structure_id` or `df_description`as inputs. These inputs are used to identify the specific dataset that we want to retrieve the dimensions of. "
   ]
  },
  {
   "cell_type": "code",
   "execution_count": null,
   "metadata": {},
   "outputs": [
    {
     "name": "stdout",
     "output_type": "stream",
     "text": [
      "<Element 'Structure' at 0x1baa3729408>\n"
     ]
    },
    {
     "data": {
      "text/html": [
       "<div>\n",
       "<style scoped>\n",
       "    .dataframe tbody tr th:only-of-type {\n",
       "        vertical-align: middle;\n",
       "    }\n",
       "\n",
       "    .dataframe tbody tr th {\n",
       "        vertical-align: top;\n",
       "    }\n",
       "\n",
       "    .dataframe thead th {\n",
       "        text-align: right;\n",
       "    }\n",
       "</style>\n",
       "<table border=\"1\" class=\"dataframe\">\n",
       "  <thead>\n",
       "    <tr style=\"text-align: right;\">\n",
       "      <th></th>\n",
       "      <th>dimension</th>\n",
       "      <th>dimension_ID</th>\n",
       "      <th>description</th>\n",
       "    </tr>\n",
       "  </thead>\n",
       "  <tbody>\n",
       "    <tr>\n",
       "      <th>0</th>\n",
       "      <td>FREQ</td>\n",
       "      <td>CL_FREQ</td>\n",
       "      <td>Frequency</td>\n",
       "    </tr>\n",
       "    <tr>\n",
       "      <th>1</th>\n",
       "      <td>CITTADINANZA</td>\n",
       "      <td>CL_CITTADINANZA</td>\n",
       "      <td>Citizenship</td>\n",
       "    </tr>\n",
       "    <tr>\n",
       "      <th>2</th>\n",
       "      <td>DURATA_DISOCCUPAZ</td>\n",
       "      <td>CL_DURATA</td>\n",
       "      <td>Duration</td>\n",
       "    </tr>\n",
       "    <tr>\n",
       "      <th>3</th>\n",
       "      <td>CLASSE_ETA</td>\n",
       "      <td>CL_ETA1</td>\n",
       "      <td>Age class</td>\n",
       "    </tr>\n",
       "    <tr>\n",
       "      <th>4</th>\n",
       "      <td>ITTER107</td>\n",
       "      <td>CL_ITTER107</td>\n",
       "      <td>Territory</td>\n",
       "    </tr>\n",
       "    <tr>\n",
       "      <th>5</th>\n",
       "      <td>SESSO</td>\n",
       "      <td>CL_SEXISTAT1</td>\n",
       "      <td>Gender</td>\n",
       "    </tr>\n",
       "    <tr>\n",
       "      <th>6</th>\n",
       "      <td>TIPO_DATO</td>\n",
       "      <td>CL_TIPO_DATO_FOL</td>\n",
       "      <td>Data type FOL</td>\n",
       "    </tr>\n",
       "    <tr>\n",
       "      <th>7</th>\n",
       "      <td>TITOLO_STUDIO</td>\n",
       "      <td>CL_TITOLO_STUDIO</td>\n",
       "      <td>Level of education</td>\n",
       "    </tr>\n",
       "  </tbody>\n",
       "</table>\n",
       "</div>"
      ],
      "text/plain": [
       "           dimension      dimension_ID         description\n",
       "0               FREQ           CL_FREQ           Frequency\n",
       "1       CITTADINANZA   CL_CITTADINANZA         Citizenship\n",
       "2  DURATA_DISOCCUPAZ         CL_DURATA            Duration\n",
       "3         CLASSE_ETA           CL_ETA1           Age class\n",
       "4           ITTER107       CL_ITTER107           Territory\n",
       "5              SESSO      CL_SEXISTAT1              Gender\n",
       "6          TIPO_DATO  CL_TIPO_DATO_FOL       Data type FOL\n",
       "7      TITOLO_STUDIO  CL_TITOLO_STUDIO  Level of education"
      ]
     },
     "execution_count": null,
     "metadata": {},
     "output_type": "execute_result"
    }
   ],
   "source": [
    "structure = DataStructure()\n",
    "structure.get_dimensions(df_structure_id = \"DCCV_TAXDISOCCU1\")"
   ]
  },
  {
   "cell_type": "code",
   "execution_count": null,
   "metadata": {},
   "outputs": [
    {
     "data": {
      "text/markdown": [
       "<h4 id=\"DataStructure.get_dimension_values\" class=\"doc_header\"><code>DataStructure.get_dimension_values</code><a href=\"__main__.py#L129\" class=\"source_link\" style=\"float:right\">[source]</a></h4>\n",
       "\n",
       "> <code>DataStructure.get_dimension_values</code>(**`dimension_ID`**, **`dataframe`**=*`True`*)\n",
       "\n",
       "Return the possible values of a dimension"
      ],
      "text/plain": [
       "<IPython.core.display.Markdown object>"
      ]
     },
     "metadata": {},
     "output_type": "display_data"
    }
   ],
   "source": [
    "show_doc(DataStructure.get_dimension_values)"
   ]
  },
  {
   "cell_type": "code",
   "execution_count": null,
   "metadata": {},
   "outputs": [
    {
     "data": {
      "text/html": [
       "<div>\n",
       "<style scoped>\n",
       "    .dataframe tbody tr th:only-of-type {\n",
       "        vertical-align: middle;\n",
       "    }\n",
       "\n",
       "    .dataframe tbody tr th {\n",
       "        vertical-align: top;\n",
       "    }\n",
       "\n",
       "    .dataframe thead th {\n",
       "        text-align: right;\n",
       "    }\n",
       "</style>\n",
       "<table border=\"1\" class=\"dataframe\">\n",
       "  <thead>\n",
       "    <tr style=\"text-align: right;\">\n",
       "      <th></th>\n",
       "      <th>value_ID</th>\n",
       "      <th>description</th>\n",
       "    </tr>\n",
       "  </thead>\n",
       "  <tbody>\n",
       "    <tr>\n",
       "      <th>0</th>\n",
       "      <td>T</td>\n",
       "      <td>total</td>\n",
       "    </tr>\n",
       "    <tr>\n",
       "      <th>1</th>\n",
       "      <td>F</td>\n",
       "      <td>females</td>\n",
       "    </tr>\n",
       "    <tr>\n",
       "      <th>2</th>\n",
       "      <td>M</td>\n",
       "      <td>males</td>\n",
       "    </tr>\n",
       "    <tr>\n",
       "      <th>3</th>\n",
       "      <td>1</td>\n",
       "      <td>males</td>\n",
       "    </tr>\n",
       "    <tr>\n",
       "      <th>4</th>\n",
       "      <td>NRP</td>\n",
       "      <td>no responce</td>\n",
       "    </tr>\n",
       "    <tr>\n",
       "      <th>5</th>\n",
       "      <td>3</td>\n",
       "      <td>n.a.</td>\n",
       "    </tr>\n",
       "    <tr>\n",
       "      <th>6</th>\n",
       "      <td>9</td>\n",
       "      <td>total</td>\n",
       "    </tr>\n",
       "    <tr>\n",
       "      <th>7</th>\n",
       "      <td>2</td>\n",
       "      <td>females</td>\n",
       "    </tr>\n",
       "  </tbody>\n",
       "</table>\n",
       "</div>"
      ],
      "text/plain": [
       "  value_ID  description\n",
       "0        T        total\n",
       "1        F      females\n",
       "2        M        males\n",
       "3        1        males\n",
       "4      NRP  no responce\n",
       "5        3         n.a.\n",
       "6        9        total\n",
       "7        2      females"
      ]
     },
     "execution_count": null,
     "metadata": {},
     "output_type": "execute_result"
    }
   ],
   "source": [
    "structure = DataStructure()\n",
    "structure.get_dimension_values(dimension_ID = \"CL_SEXISTAT1\")"
   ]
  },
  {
   "cell_type": "code",
   "execution_count": null,
   "metadata": {},
   "outputs": [
    {
     "name": "stdout",
     "output_type": "stream",
     "text": [
      "Converted 00_base.ipynb.\n",
      "Converted 01_discovery.ipynb.\n",
      "Converted 02_utils.ipynb.\n",
      "Converted index.ipynb.\n"
     ]
    }
   ],
   "source": [
    "%nbdev_hide\n",
    "export.notebook2script()"
   ]
  },
  {
   "cell_type": "code",
   "execution_count": null,
   "metadata": {},
   "outputs": [],
   "source": []
  }
 ],
 "metadata": {
  "kernelspec": {
   "display_name": "Python 3",
   "language": "python",
   "name": "python3"
  }
 },
 "nbformat": 4,
 "nbformat_minor": 4
}
